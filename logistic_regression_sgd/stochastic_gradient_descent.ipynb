{
 "cells": [
  {
   "cell_type": "markdown",
   "metadata": {},
   "source": [
    "# Logistic Regression Classifier using Gradient Descent and Stochastic Gradient Descent"
   ]
  },
  {
   "cell_type": "code",
   "execution_count": 1,
   "metadata": {},
   "outputs": [],
   "source": [
    "import numpy as np\n",
    "import scipy.io as sio\n",
    "import matplotlib.pyplot as plt\n",
    "\n",
    "mnist_49_3000 = sio.loadmat('mnist_49_3000.mat')\n",
    "x = mnist_49_3000['x']\n",
    "y = mnist_49_3000['y']\n",
    "d, n = x.shape"
   ]
  },
  {
   "cell_type": "code",
   "execution_count": 2,
   "metadata": {},
   "outputs": [],
   "source": [
    "ntr = 2000  # number of training points\n",
    "nts = n - 2000  # number of testing points\n",
    "\n",
    "x_tilde = np.concatenate([np.ones([1, n]), x], axis=0)  # append vector of 1 for the bias term\n",
    "\n",
    "# Split data into training/testing set\n",
    "xtr = x_tilde[:, :ntr]\n",
    "xts = x_tilde[:, ntr:]\n",
    "ytr = y[:, :ntr]\n",
    "yts = y[:, ntr:]"
   ]
  },
  {
   "cell_type": "code",
   "execution_count": 3,
   "metadata": {},
   "outputs": [],
   "source": [
    "#Helper functions\n",
    "\n",
    "# Define sigmoid function\n",
    "def sigmoid_func(t):\n",
    "    return 1. / (1 + np.exp(-t))\n",
    "\n",
    "\n",
    "# Define derivative of sigmoid function\n",
    "def sigmoid_func_derive(t):\n",
    "    return np.exp(-t) / np.square(1 + np.exp(-t))\n",
    "\n",
    "\n",
    "# Phi (defined in problem 3(a))\n",
    "def phi(t):\n",
    "    return np.log(1 + np.exp(-t))\n",
    "\n",
    "\n",
    "def obj_func(xtr, ytr, lam, theta):\n",
    "    \n",
    "    obj_val = np.sum(phi(xtr.T.dot(theta) * ytr.T)) + lam * np.square(np.linalg.norm(theta))\n",
    "    return obj_val"
   ]
  },
  {
   "cell_type": "markdown",
   "metadata": {},
   "source": [
    "### Logistic Regression Classifier with Gradient Descent"
   ]
  },
  {
   "cell_type": "code",
   "execution_count": 4,
   "metadata": {},
   "outputs": [],
   "source": [
    "# Implementation of Gradient Descent\n",
    "def GD(x, gf, eta, fun=lambda x,itr: 0, niter=100, eps=1e-5):    \n",
    "    '''\n",
    "    Input: \n",
    "        x:     intilalization \n",
    "        gf:    gradient function takes position argument \n",
    "        eta:   step size\n",
    "        fun:   objective value takes position argument \n",
    "        niter: number of iterations \n",
    "        eps:   tolerance for termination criteria \n",
    "\n",
    "    Itermediate: \n",
    "        grad:  gradient\n",
    "\n",
    "    Output: \n",
    "        x:     final solution \n",
    "        itr:   numer of iteration \n",
    "        out:   objective values per iterations \n",
    "    '''\n",
    "    out=np.empty(niter+1)\n",
    "    out[0] = fun(x,0)\n",
    "    for itr in range(niter):\n",
    "        '''\n",
    "        TODO: Fill in the code to implement GD\n",
    "        '''\n",
    "        x -= eta * gf(x)\n",
    "        out[itr+1] = fun(x,itr+1)\n",
    "        if (np.abs(out[itr+1] - out[itr])/np.abs(out[itr])  < eps):\n",
    "            return x, itr, out[:itr+1]\n",
    "        itr += 1\n",
    "    \n",
    "    out[: itr+1] = fun(x,itr+1)\n",
    "    return x, itr, out[:itr+1]"
   ]
  },
  {
   "cell_type": "code",
   "execution_count": 5,
   "metadata": {},
   "outputs": [
    {
     "name": "stdout",
     "output_type": "stream",
     "text": [
      "The test error of the logistic regression classifier is 4.8\n",
      "Number of iterations needed: 1012\n"
     ]
    }
   ],
   "source": [
    "# Initialize with the zero vector. +1 for the bias term\n",
    "lam = 10.0\n",
    "eps = 1e-5\n",
    "Niter = 2000 #maximum number of iterations\n",
    "\n",
    "# TODO:  Compute the step size\n",
    "_sum = 0\n",
    "for i in range(ntr):\n",
    "    _sum += np.dot(xtr[:,i], xtr[:,i])\n",
    "\n",
    "L = 2*lam + 0.25*_sum # (2*lambda + 0.25 * sum of )\n",
    "step_size = 2/(L + 2*lam)\n",
    "\n",
    "# TODO: implement the Gradient function\n",
    "#       if you prefer not use lambda function \n",
    "#       that is acceptable as well\n",
    "\n",
    "def grad(z):\n",
    "    gf = np.zeros([d+1,1])\n",
    "    gf[:,0] = ( 2 * lam ) * z[:,0]\n",
    "    for i in range(ntr):\n",
    "        gf[:,0] -= xtr[:,i] * ytr[:,i][0] / ( 1 + np.exp( ytr[:,i][0] * np.dot(z[:,0], xtr[:,i])))\n",
    "    return gf\n",
    "                \n",
    "\n",
    "#grad = lambda z: ( 2 * lam / ntr ) * z  -  xtr[:,i] * ytr[:,i] / ( 1 + np.exp( ytr[:,i] * np.dot(z[:,0], xtr[:,i]) )\n",
    "\n",
    "obj = lambda z,itr: obj_func(xtr,ytr,lam, z)\n",
    "\n",
    "theta, niter, out = GD(np.zeros([d+1,1]), grad, step_size, obj, Niter,eps)\n",
    "\n",
    "# Logistic regression estimate\n",
    "y_pred = np.ones([yts.shape[1], 1]) * -1\n",
    "y_pred[xts.T.dot(theta) >= 0] = 1\n",
    "test_error = np.sum(y_pred.T != yts) * 100. / float(nts)\n",
    "\n",
    "print(\"The test error of the logistic regression classifier is {}\".format(test_error))\n",
    "print(\"Number of iterations needed: {}\".format(niter))"
   ]
  },
  {
   "cell_type": "code",
   "execution_count": 6,
   "metadata": {},
   "outputs": [
    {
     "data": {
      "text/plain": [
       "Text(0, 0.5, 'Objective value')"
      ]
     },
     "execution_count": 6,
     "metadata": {},
     "output_type": "execute_result"
    },
    {
     "data": {
      "image/png": "[encoded data removed]",
      "text/plain": [
       "<Figure size 432x288 with 1 Axes>"
      ]
     },
     "metadata": {
      "needs_background": "light"
     },
     "output_type": "display_data"
    }
   ],
   "source": [
    "import matplotlib.pyplot as plt\n",
    "%matplotlib inline \n",
    "\n",
    "fig, ax = plt.subplots()\n",
    "\n",
    "ax.plot(np.arange(niter+1),np.array(out),'b')\n",
    "ax.set_yscale(\"log\")\n",
    "ax.set_xlabel('Number of iteration')\n",
    "ax.set_ylabel('Objective value')"
   ]
  },
  {
   "cell_type": "markdown",
   "metadata": {},
   "source": [
    "### Logistic Regression Classifier with Stochastic Gradient Descent"
   ]
  },
  {
   "cell_type": "code",
   "execution_count": 16,
   "metadata": {},
   "outputs": [],
   "source": [
    "# Implementation of SGD\n",
    "def SGD(x, sgf, ns, eta=1, fun=lambda x,itr: 0, nepoch=100, eps=1e-5):\n",
    "    '''\n",
    "    Input: \n",
    "        x:      intilalization \n",
    "        sgf:    stochastic gradient function takes position argument \n",
    "        ns:     number of training samples  \n",
    "        fun:    objective value takes position argument \n",
    "        nepoch: number of iterations \n",
    "        eps:    tolerance for termination criteria \n",
    "\n",
    "    Itermediate: \n",
    "        d:      length of x  \n",
    "        sgrad:  stochastic gradient\n",
    "\n",
    "    Output: \n",
    "        x:      final solution \n",
    "        epoch:  number of epoches\n",
    "        itr:    total number of iterations \n",
    "        out:    objective values per iterations \n",
    "    '''\n",
    "    itr = 0\n",
    "    d = len(x)\n",
    "    out= np.empty(nepoch+1)\n",
    "    out[0] = fun(x,0)\n",
    "    for epoch in range(nepoch):\n",
    "        '''\n",
    "        TODO: Fill in the code to implement SGD\n",
    "        '''\n",
    "        # create randomized order of indices\n",
    "        rand_indices = np.array([i for i in range(ns)])\n",
    "        np.random.shuffle(rand_indices)\n",
    "        \n",
    "        for i in rand_indices:\n",
    "            eta = 1 / np.sqrt(itr + 1)\n",
    "            x = x -  eta * sgf(x, i)\n",
    "            itr += 1\n",
    "        \n",
    "        out[epoch+1] = fun(x,epoch+1)\n",
    "        if (np.abs(out[epoch+1] - out[epoch])/np.abs(out[epoch])  < eps):\n",
    "            return x, epoch, out[:epoch+1]\n",
    "        \n",
    "        epoch += 1\n",
    "    return x, epoch, out[:epoch+1]"
   ]
  },
  {
   "cell_type": "code",
   "execution_count": 17,
   "metadata": {},
   "outputs": [
    {
     "name": "stdout",
     "output_type": "stream",
     "text": [
      "The test error of the logistic regression classifier is 4.8\n",
      "Number of epochs needed: 300\n"
     ]
    }
   ],
   "source": [
    "# Initialize with the zero vector. +1 for the bias term\n",
    "lam = 10.0\n",
    "eps = 1e-5\n",
    "nepoch = 300 #maximum number of epcohes \n",
    "\n",
    "# TODO: implement the stochastic gradient function\n",
    "#       with respect to sampe i at location z\n",
    "#       if you prefer not use lambda function \n",
    "#       that is acceptable as well\n",
    "\n",
    "def sgf(z, i):\n",
    "    gf = np.zeros([d+1,1])\n",
    "    gf[:,0] = - xtr[:,i] * ytr[:,i][0] / ( 1 + np.exp( ytr[:,i][0] * np.dot(z[:,0], xtr[:,i]))) + ( 2 * lam ) * z[:,0] / ntr\n",
    "    return gf\n",
    "\n",
    "#sgf = lambda z,i: - xtr[:,i] * ytr[:,i][0] / ( 1 + np.exp( ytr[:,i][0] * np.dot(z, xtr[:,i]))) + ( 2 * lam ) * z / ntr\n",
    "\n",
    "\n",
    "\n",
    "obj = lambda z,itr: obj_func(xtr,ytr,lam, z)\n",
    "theta, epoch, out = SGD(np.zeros([d+1,1]), sgf=sgf, eta=1, ns=ntr, fun=obj, nepoch=nepoch,eps=eps)\n",
    "\n",
    "# Logistic regression estimate\n",
    "y_pred = np.ones([yts.shape[1], 1]) * -1\n",
    "y_pred[xts.T.dot(theta) >= 0] = 1\n",
    "test_error = np.sum(y_pred.T != yts) * 100. / float(nts)\n",
    "\n",
    "print(\"The test error of the logistic regression classifier is {}\".format(test_error))\n",
    "print(\"Number of epochs needed: {}\".format(epoch))"
   ]
  },
  {
   "cell_type": "code",
   "execution_count": 18,
   "metadata": {},
   "outputs": [
    {
     "data": {
      "text/plain": [
       "Text(0, 0.5, 'Objective value')"
      ]
     },
     "execution_count": 18,
     "metadata": {},
     "output_type": "execute_result"
    },
    {
     "data": {
      "image/png": "[encoded data removed]",
      "text/plain": [
       "<Figure size 432x288 with 1 Axes>"
      ]
     },
     "metadata": {
      "needs_background": "light"
     },
     "output_type": "display_data"
    }
   ],
   "source": [
    "fig, ax = plt.subplots()\n",
    "\n",
    "ax.plot(np.arange(epoch+1),np.array(out),'b')\n",
    "ax.set_yscale(\"log\")\n",
    "ax.set_xlabel('Number of iteration')\n",
    "ax.set_ylabel('Objective value')"
   ]
  },
  {
   "cell_type": "markdown",
   "metadata": {},
   "source": [
    "We see that stochastic gradient descent achieves an acceptable classifier significantly earlier than the standard gradient descent method."
   ]
  },
  {
   "cell_type": "code",
   "execution_count": null,
   "metadata": {},
   "outputs": [],
   "source": []
  }
 ],
 "metadata": {
  "kernelspec": {
   "display_name": "Python 3 (ipykernel)",
   "language": "python",
   "name": "python3"
  },
  "language_info": {
   "codemirror_mode": {
    "name": "ipython",
    "version": 3
   },
   "file_extension": ".py",
   "mimetype": "text/x-python",
   "name": "python",
   "nbconvert_exporter": "python",
   "pygments_lexer": "ipython3",
   "version": "3.9.7"
  }
 },
 "nbformat": 4,
 "nbformat_minor": 4
}
