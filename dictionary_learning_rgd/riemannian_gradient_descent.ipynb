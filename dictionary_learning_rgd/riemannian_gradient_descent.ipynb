{
 "cells": [
  {
   "cell_type": "markdown",
   "metadata": {},
   "source": [
    "# Orthogonal Dictionary Learning with Manifolds"
   ]
  },
  {
   "cell_type": "markdown",
   "metadata": {},
   "source": [
    "This code implements Riemannian gradient descent to solve the dictionary learning problem:\n",
    "\n",
    "$$\\min_{\\mathbf{A}, \\mathbf{X}} \\frac{1}{2} ||\\mathbf{Y} - \\mathbf{A}\\mathbf{X}||_{F} + \\mu ||\\mathbf{X}||_1 \\,\\,\\, \\text{ so that }\\, \\mathbf{A} \\in \\mathcal{O}(n) $$\n",
    "\n",
    "where $\\mathcal{O}(n) = \\{ \\mathbf{Z} \\in \\mathbf{R}^{n\\times n} : \\mathbf{Z}^T\\mathbf{Z} = \\mathbf{I} \\}$."
   ]
  },
  {
   "cell_type": "code",
   "execution_count": 206,
   "metadata": {},
   "outputs": [],
   "source": [
    "import numpy as np\n",
    "from scipy.linalg import sqrtm\n",
    "import matplotlib.pyplot as plt\n",
    "from scipy.stats import ortho_group\n",
    "%matplotlib inline\n",
    "\n",
    "from pdb import set_trace"
   ]
  },
  {
   "cell_type": "markdown",
   "metadata": {},
   "source": [
    "## Helper Functions"
   ]
  },
  {
   "cell_type": "code",
   "execution_count": 160,
   "metadata": {},
   "outputs": [],
   "source": [
    "def huber(x,mu):\n",
    "    '''\n",
    "    Input:\n",
    "      x:   input argument to huber function \n",
    "           note- this can be vector/matrix, or any np array\n",
    "      mu:  huber parameter\n",
    "        \n",
    "    Output: \n",
    "      out: huber function output  \n",
    "    '''\n",
    "    out = np.where(np.abs(x) >= mu, np.abs(x), 0.5 * mu + 0.5 * x**2 / mu)\n",
    "    return np.sum(out)\n",
    "\n",
    "\n",
    "def huber_grad(x,mu):\n",
    "    '''\n",
    "    Input: \n",
    "      x:   input argument to huber function \n",
    "           note- this can be vector/matrix,so make sure your implementation \n",
    "                 apply elementwise \n",
    "      mu:  huber parameter\n",
    "        \n",
    "    Output: \n",
    "      out: huber derivative output  \n",
    "    '''\n",
    "    out = np.where(np.abs(x) >= mu, np.sign(x), x / mu)\n",
    "    return out"
   ]
  },
  {
   "cell_type": "markdown",
   "metadata": {},
   "source": [
    "## Algorithms"
   ]
  },
  {
   "cell_type": "code",
   "execution_count": 194,
   "metadata": {},
   "outputs": [],
   "source": [
    "# Backtrack line search for RGD \n",
    "def backtrack(z, f, grad, rt, eta, alp = 2, beta = 0.5):    \n",
    "    '''\n",
    "    Input: \n",
    "        z:     Current location\n",
    "        f:     Objective function \n",
    "        grad:  Riemannian Gradient \n",
    "        rt:    Retraction Map\n",
    "        alp:   Warm start parameter \n",
    "        beta:  Step size decay parameter \n",
    "        eta:   Step size from previous iteration\n",
    "\n",
    "    Output: \n",
    "        eta: step size \n",
    "    '''    \n",
    "    # Backtracking Line Search for Riemannian Gradient Descent \n",
    "    \n",
    "    eta = alp\n",
    "    while f(z) - f(rt(z, -eta * grad(z))) < 0.5 * eta * np.linalg.norm(grad(z))**2:\n",
    "        eta *= beta\n",
    "\n",
    "    return eta"
   ]
  },
  {
   "cell_type": "code",
   "execution_count": 199,
   "metadata": {},
   "outputs": [],
   "source": [
    "#Riemannian Gradient Descent with backtrack line search:\n",
    "def RGD(z, rgf, rt, fun=lambda z: 0, niter=1000,eps=1e-6):\n",
    "    \n",
    "    '''\n",
    "    Input: \n",
    "        z:     Initailization\n",
    "        rgf:   Riemanning gradient functio position->tangent vector \n",
    "        rt:    Retraction Map\n",
    "        fun:   User defined function (e.g objective function)\n",
    "        niter: Number of iterations \n",
    "        eps:   Termination Criteria \n",
    "        \n",
    "    Itermediate:\n",
    "        eta:  step size\n",
    "        \n",
    "    Output: \n",
    "        z: final solution \n",
    "        out: objective values per iterations \n",
    "    '''\n",
    "    out = np.empty(niter+1)\n",
    "    out[0] = fun(z)\n",
    "\n",
    "    eta = 1 #Intialized Step size\n",
    "    for itr in range(niter):\n",
    "    ## Riemannian Gradient Descent with backtrack line search\n",
    "        eta = backtrack(z, fun, rgf, rt, eta)\n",
    "        z = rt(z, -eta * rgf(z))\n",
    "        out[itr+1] = fun(z)\n",
    "        \n",
    "        if (abs(out[itr+1] - out[itr]) / abs(out[itr])) < eps:\n",
    "            break   \n",
    "        \n",
    "    return z, out[:itr+1]"
   ]
  },
  {
   "cell_type": "markdown",
   "metadata": {},
   "source": [
    "## Generating Data "
   ]
  },
  {
   "cell_type": "code",
   "execution_count": 200,
   "metadata": {},
   "outputs": [],
   "source": [
    "## Generating Data\n",
    "## Note: We are only solving for one column of A in part c, \n",
    "##       while trying to solve full matrix A         \n",
    "np.random.seed(0)\n",
    "\n",
    "n = 20\n",
    "p = 200\n",
    "\n",
    "theta = 0.3 #Bernoulli parameters, control sparsity of X\n",
    "\n",
    "A0 = ortho_group.rvs(n)\n",
    "B0 = np.random.binomial(1, theta, (n,1))\n",
    "G0 = np.random.randn(n,p) \n",
    "X0 = B0*G0\n",
    "\n",
    "Y = A0@X0"
   ]
  },
  {
   "cell_type": "markdown",
   "metadata": {},
   "source": [
    "## Minimizing the Huber Loss Function on a Sphere"
   ]
  },
  {
   "cell_type": "markdown",
   "metadata": {},
   "source": [
    "This section is only solving for one column of the dictionary."
   ]
  },
  {
   "cell_type": "code",
   "execution_count": 201,
   "metadata": {},
   "outputs": [],
   "source": [
    "Niter = 1000\n",
    "mu0 = 0.02 # Huber Parameter \n",
    "Obj = lambda z : huber(Y.T @ z , mu0) # Objective function\n",
    "proj = lambda z, v : v - np.dot(z,z.T) @ v # projection onto Tangent Space\n",
    "GF = lambda z : Y @ huber_grad(Y.T @ z, mu0) # Gradient of Objective function (without constraints)\n",
    "RGF = lambda z : proj(z, GF(z)) # Riemannian Gradient Function\n",
    "Rt = lambda z, v : (z + v) / np.linalg.norm(z + v) # Retraction Mapping\n",
    "\n",
    "a,out = RGD(z=np.ones((n,1))/np.sqrt(n), rgf=RGF, rt=Rt, fun=Obj, niter=Niter)"
   ]
  },
  {
   "cell_type": "code",
   "execution_count": 202,
   "metadata": {},
   "outputs": [
    {
     "data": {
      "text/plain": [
       "<matplotlib.legend.Legend at 0x23e3729abb0>"
      ]
     },
     "execution_count": 202,
     "metadata": {},
     "output_type": "execute_result"
    },
    {
     "data": {
      "image/png": "[encoded data removed]",
      "text/plain": [
       "<Figure size 432x288 with 1 Axes>"
      ]
     },
     "metadata": {
      "needs_background": "light"
     },
     "output_type": "display_data"
    }
   ],
   "source": [
    "# Converence to the optimal value \n",
    "plt.plot(np.arange(len(out)-1),np.log10(np.array(out[:-1]-out[-1])),'r')\n",
    "\n",
    "plt.legend((r'RGD'), loc = 'upper right')"
   ]
  },
  {
   "cell_type": "markdown",
   "metadata": {},
   "source": [
    "## Solving for the Whole Dictionary"
   ]
  },
  {
   "cell_type": "code",
   "execution_count": 210,
   "metadata": {},
   "outputs": [
    {
     "name": "stderr",
     "output_type": "stream",
     "text": [
      "C:\\Users\\berpr\\AppData\\Local\\Temp/ipykernel_13796/185231479.py:28: ComplexWarning: Casting complex values to real discards the imaginary part\n",
      "  out[itr+1] = fun(z)\n"
     ]
    }
   ],
   "source": [
    "np.random.seed(1)\n",
    "\n",
    "Niter = 1000\n",
    "mu0 = 0.02 # Huber Parameter \n",
    "sym = lambda Z: (Z+Z.T)/2                       \n",
    "\n",
    "Obj = lambda Z : huber(Y.T @ Z , mu0) # Objective function\n",
    "proj = lambda Z, V : V - Z @ sym(Z.T @ V) # projection onto Tangent Space\n",
    "GF = lambda Z : Y @ huber_grad(Y.T @ Z, mu0) # Gradient of Objective function (without constraints)\n",
    "RGF = lambda Z : proj(Z, GF(Z)) # Riemannian Gradient Function\n",
    "Rt = lambda Z, V : (Z + V) @ np.linalg.inv(sqrtm(np.identity(Z.shape[0]) + V.T @ V)) #TODO: Fill inRetraction Mapping\n",
    "\n",
    "A,out = RGD(z=ortho_group.rvs(n), rgf=RGF, rt=Rt, fun=Obj, niter=Niter)"
   ]
  },
  {
   "cell_type": "code",
   "execution_count": 211,
   "metadata": {},
   "outputs": [
    {
     "data": {
      "text/plain": [
       "<matplotlib.legend.Legend at 0x23e37262b50>"
      ]
     },
     "execution_count": 211,
     "metadata": {},
     "output_type": "execute_result"
    },
    {
     "data": {
      "image/png": "[encoded data removed]",
      "text/plain": [
       "<Figure size 432x288 with 1 Axes>"
      ]
     },
     "metadata": {
      "needs_background": "light"
     },
     "output_type": "display_data"
    }
   ],
   "source": [
    "# Converence to the optimal value \n",
    "plt.plot(np.arange(len(out)-1),np.log10(np.array(out[:-1]-out[-1])),'r')\n",
    "\n",
    "plt.legend((r'RGD'), loc = 'upper right')"
   ]
  },
  {
   "cell_type": "code",
   "execution_count": null,
   "metadata": {},
   "outputs": [],
   "source": []
  }
 ],
 "metadata": {
  "kernelspec": {
   "display_name": "Python 3 (ipykernel)",
   "language": "python",
   "name": "python3"
  },
  "language_info": {
   "codemirror_mode": {
    "name": "ipython",
    "version": 3
   },
   "file_extension": ".py",
   "mimetype": "text/x-python",
   "name": "python",
   "nbconvert_exporter": "python",
   "pygments_lexer": "ipython3",
   "version": "3.9.7"
  }
 },
 "nbformat": 4,
 "nbformat_minor": 4
}
