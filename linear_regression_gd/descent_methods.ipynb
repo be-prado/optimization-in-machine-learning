{
 "cells": [
  {
   "cell_type": "markdown",
   "metadata": {
    "id": "uw0dzsVG6-iw"
   },
   "source": [
    "# Strongly Convex Optimization with Gradient Descent using Exact Line Search, the Heavy Ball Method and Nesterov Acceleration"
   ]
  },
  {
   "cell_type": "markdown",
   "metadata": {},
   "source": [
    "This code solves a generalized linear regression problem using different optimization methods and compares their efficiency."
   ]
  },
  {
   "cell_type": "code",
   "execution_count": 1,
   "metadata": {},
   "outputs": [],
   "source": [
    "import numpy as np\n",
    "from numpy.random import default_rng "
   ]
  },
  {
   "cell_type": "code",
   "execution_count": 2,
   "metadata": {
    "id": "fkA4LicL69iF"
   },
   "outputs": [],
   "source": [
    "#Generating the data\n",
    "# note by construction we ensure \n",
    "# 1. The problem is strongly convex with parameter m\n",
    "# 2. The problem has lipschitz gradient with parameter L\n",
    "rng = default_rng(seed=0)\n",
    "\n",
    "m=0.01\n",
    "L=1\n",
    "kappa=L/m\n",
    "n=10\n",
    "A = rng.normal(size=(n,n))\n",
    "[Q,R]=np.linalg.qr(A)\n",
    "D=rng.random(n)\n",
    "D=10**D\n",
    "Dmin=np.min(D)\n",
    "Dmax=np.max(D)\n",
    "D=(D-Dmin)/(Dmax-Dmin)\n",
    "D = m + D*(L-m)\n",
    "A = Q.T@np.diag(D)@Q\n",
    "epsilon=1.e-6\n",
    "eps = epsilon\n",
    "kmax=1000\n",
    "x0 = rng.normal(size=n) "
   ]
  },
  {
   "cell_type": "code",
   "execution_count": 3,
   "metadata": {
    "id": "FfCI1_3H7KVy"
   },
   "outputs": [],
   "source": [
    "def obj(A,x): # Define the objective function that returns the function value, gradient, and Hessian matrix\n",
    "    fval = np.dot(x, np.matmul(A,x)) / 2 # fval holds the least-squares function value\n",
    "    grad = np.matmul( A + np.transpose(A), x) / 2 # grad holds the gradient vector (A + A^T)x\n",
    "    hess = (A + np.transpose(A)) / 2 # Hessian holds the Hessian matrix A + A^T\n",
    "    return fval, grad, hess\n",
    "\n",
    "feval = lambda x: obj(A, x)[0] # Use the lambda operator to define function handles that can pass into algorithms\n",
    "grad = lambda x: obj(A, x)[1]\n",
    "hess = lambda x: obj(A, x)[2]"
   ]
  },
  {
   "cell_type": "code",
   "execution_count": 4,
   "metadata": {
    "id": "Toi1YGL47--b"
   },
   "outputs": [],
   "source": [
    "def GD(x, feval, grad, stepsize, eps): \n",
    "    '''\n",
    "    input:\n",
    "        x:          initial point\n",
    "        feval:      objective function \n",
    "        grad:       gradient of objective function \n",
    "        stepsize:   function handle to handle different stepsize schemes such as constant, exact line search, \n",
    "                    and Wolfes' cnoditions\n",
    "        eps         termiination criteria \n",
    "\n",
    "    output: \n",
    "        x:          final output \n",
    "        fv:         final objective avlue\n",
    "        g:          gradient at final iterate\n",
    "        history:    history of objective value\n",
    "        iter_count: number of iteration needed till convergence\n",
    "\n",
    "    '''\n",
    "    \n",
    "    #print(\"Starting GD \\n\")\n",
    "    x = np.copy(x)\n",
    "    fv = feval(x)\n",
    "    g = grad(x)\n",
    "    history = []\n",
    "    iter_count = 0\n",
    "    \n",
    "    while fv > eps: # This cannot be used as a stopping criteria for a general problem as we don't know f^* = 0. \n",
    "                    # A more appropriate stopping criteria is using the norm of the gradient\n",
    "        \n",
    "        # steepest descent method\n",
    "        x -= stepsize(x, grad(x)) * grad(x)\n",
    "        fv = feval(x)\n",
    "        history.append(fv)\n",
    "        iter_count += 1\n",
    "        #print(iter_count, fv)\n",
    "        \n",
    "    return x, fv, g, history, iter_count"
   ]
  },
  {
   "cell_type": "code",
   "execution_count": 5,
   "metadata": {
    "id": "hGaFOz1TNVwF"
   },
   "outputs": [],
   "source": [
    "# compute the optimal step size by exact line search\n",
    "def exact_line_search(xk, dk, A):\n",
    "    '''\n",
    "    input:\n",
    "        xk  - Current location\n",
    "        dk  - Search Drection \n",
    "        A   - Matrix A\n",
    "\n",
    "    output: \n",
    "\n",
    "    '''\n",
    "    \n",
    "    H = A + np.transpose(A)\n",
    "    numerator = np.dot(dk, np.matmul(H, xk)) # this is x^T (A + A^T) (A^T + A) x\n",
    "    denominator = np.dot(dk, np.matmul(H, dk))\n",
    "    \n",
    "    tau = numerator/denominator\n",
    "    \n",
    "    # tau  = (feval(xk) - feval(xk - tau * dk)) / (c1 * np.dot(dk, grad(xk)))\n",
    "    \n",
    "    return tau # returns the optimal step size by exact line search"
   ]
  },
  {
   "cell_type": "code",
   "execution_count": 6,
   "metadata": {
    "id": "jqKTLahFVIvI"
   },
   "outputs": [],
   "source": [
    "def heavy_ball(x, feval, grad, alpha, beta, eps):\n",
    "    '''\n",
    "    input:\n",
    "        x:           initial point\n",
    "        feval:       objective function \n",
    "        grad:        gradient of objective function \n",
    "        tau:         step size toward current gradient\n",
    "        beta:        momentum correction \n",
    "        eps:         termiination criteria \n",
    "\n",
    "    output: \n",
    "        x:           final output \n",
    "        fv:          final objective avlue\n",
    "        g:           gradient at final iterate\n",
    "        history:     history of objective value\n",
    "        iter_count:  number of iteration needed till convergence  \n",
    "    '''\n",
    "    \n",
    "    #print(\"Starting heavy ball \\n\")\n",
    "    x_curr = np.copy(x)\n",
    "    # x_{k-1}\n",
    "    x_prev = np.copy(x)\n",
    "    fv = feval(x_curr)\n",
    "    g = grad(x_curr)\n",
    "    history = []\n",
    "    iter_count = 0\n",
    "\n",
    "    while fv > eps:\n",
    "        # heavy_ball method\n",
    "        x_next = x_curr - alpha * grad(x_curr) + beta * (x_curr - x_prev)\n",
    "        x_prev = np.copy(x_curr)\n",
    "        x_curr = np.copy(x_next)\n",
    "        fv = feval(x_curr)\n",
    "        history.append(fv)\n",
    "        iter_count += 1\n",
    "        \n",
    "    return x_curr, fv, g, history, iter_count"
   ]
  },
  {
   "cell_type": "code",
   "execution_count": 7,
   "metadata": {
    "id": "85jWmk2OWZGQ"
   },
   "outputs": [],
   "source": [
    "def Nesterov(x, feval, grad, alpha, beta, eps):\n",
    "        \n",
    "    '''\n",
    "    input:\n",
    "        x       - initial point\n",
    "        feval    - objective function \n",
    "        grad     - gradient of objective function \n",
    "        alpha    - momentum term for location \n",
    "        beta     - step size toward corrected gradient\n",
    "        eps      - termiination criteria \n",
    "        \n",
    "    output: \n",
    "        x          - final output \n",
    "        fv         - final objective avlue\n",
    "        g          - gradient at final iterate\n",
    "        history    - history of objective value\n",
    "        iter_count - number of iteration needed till convergence  \n",
    "    '''\n",
    "    #print(\"Starting Nesterov \\n\")\n",
    "    \n",
    "    x_prev = np.copy(x)\n",
    "    x_curr = np.copy(x)\n",
    "    fv = feval(x_curr)\n",
    "    history = []\n",
    "    iter_count = 0\n",
    "    while fv > eps:\n",
    "        # nesterov accelerated gradient \n",
    "        p = x_curr + beta * (x_curr - x_prev)\n",
    "        x_prev = np.copy(x_curr)\n",
    "        x_curr = p - alpha * grad(p)\n",
    "        \n",
    "        fv = feval(x_curr)\n",
    "        history.append(fv)\n",
    "        \n",
    "        iter_count += 1\n",
    "\n",
    "\n",
    "    return x_curr, fv, grad(x_curr), history, iter_count"
   ]
  },
  {
   "cell_type": "code",
   "execution_count": 8,
   "metadata": {},
   "outputs": [],
   "source": [
    "#x0 = rng.normal(size=n)\n",
    "#beta = (np.sqrt(L)-np.sqrt(m))/(np.sqrt(L)+np.sqrt(m))\n",
    "#x, fv, g, history5, iter_count5 = Nesterov(x0, feval, grad, alpha, beta, eps)\n",
    "#print(iter_count5)"
   ]
  },
  {
   "cell_type": "code",
   "execution_count": 9,
   "metadata": {
    "id": "mV5dVsTt5Cxs"
   },
   "outputs": [
    {
     "name": "stdout",
     "output_type": "stream",
     "text": [
      "[[323. 306. 147.  76.  40.]\n",
      " [340. 323. 161.  80.  44.]\n",
      " [315. 317. 150.  67.  47.]\n",
      " [326. 385. 188.  72.  55.]\n",
      " [282. 480. 243.  79.  65.]\n",
      " [309. 320. 162.  72.  47.]\n",
      " [244. 412. 205.  75.  58.]\n",
      " [258. 396. 196.  76.  56.]\n",
      " [314. 278. 139.  76.  41.]\n",
      " [341. 354. 180.  77.  39.]]\n"
     ]
    }
   ],
   "source": [
    "rng = default_rng(seed=0)\n",
    "\n",
    "T = 10\n",
    "Num_Iterations = np.zeros((T,5))\n",
    "eps =1e-6\n",
    "\n",
    "for t in range(T):\n",
    "    x0 = rng.normal(size=n)\n",
    "    stepsize = lambda xk, dk: 2/(m+L)\n",
    "    x, fv, g, history1, iter_count1 = GD(x0, feval, grad, stepsize, eps)\n",
    "    Num_Iterations[t,0] = iter_count1\n",
    "  \n",
    "    stepsize = lambda xk, dk: 1/L\n",
    "    x, fv, g, history2, iter_count2 = GD(x0, feval, grad, stepsize, eps)\n",
    "    Num_Iterations[t,1] = iter_count2\n",
    "  \n",
    "    stepsize = lambda xk, dk: exact_line_search(xk, dk, A)\n",
    "    x, fv, g, history3, iter_count3 = GD(x0, feval, grad, stepsize, eps)\n",
    "    Num_Iterations[t,2] = iter_count3\n",
    "  \n",
    "    alpha = 4/(np.sqrt(L)+np.sqrt(m))**2\n",
    "    beta = (np.sqrt(L)-np.sqrt(m))/(np.sqrt(L)+np.sqrt(m))\n",
    "    x, fv, g, history4, iter_count4 = heavy_ball(x0, feval, grad, alpha, beta, eps)\n",
    "    Num_Iterations[t,3] = iter_count4\n",
    "  \n",
    "    alpha = 1/L\n",
    "    beta = (np.sqrt(L)-np.sqrt(m))/(np.sqrt(L)+np.sqrt(m))\n",
    "    x, fv, g, history5, iter_count5 = Nesterov(x0, feval, grad, alpha, beta, eps)\n",
    "    Num_Iterations[t,4] = iter_count5\n",
    "    \n",
    "print(Num_Iterations)"
   ]
  },
  {
   "cell_type": "code",
   "execution_count": 10,
   "metadata": {
    "id": "P8GyswUO7Z8s"
   },
   "outputs": [
    {
     "name": "stdout",
     "output_type": "stream",
     "text": [
      "['SD $\\\\alpha = 2/(m+L)$', 'SD $\\\\alpha = 1/L$', 'SD Exact', 'Heavy Ball', 'Nesterov']\n",
      "[305.2 357.1 177.1  75.   49.2]\n"
     ]
    }
   ],
   "source": [
    "Algs = [r'SD $\\alpha = 2/(m+L)$', r'SD $\\alpha = 1/L$', r'SD Exact', 'Heavy Ball', 'Nesterov']\n",
    "print(Algs)\n",
    "print(np.mean(Num_Iterations, axis = 0))"
   ]
  },
  {
   "cell_type": "code",
   "execution_count": 11,
   "metadata": {
    "id": "Dnq4BVaY4H9w"
   },
   "outputs": [],
   "source": [
    "stepsize = lambda xk, dk: 2/(m+L)\n",
    "x, fv, g, history1, iter_count1 = GD(x0, feval, grad, stepsize, eps)\n",
    "\n",
    "stepsize = lambda xk, dk: 1/L\n",
    "x, fv, g, history2, iter_count2 = GD(x0, feval, grad, stepsize, eps)\n",
    "\n",
    "stepsize = lambda xk, dk: exact_line_search(xk, dk, A)\n",
    "x, fv, g, history3, iter_count3 = GD(x0, feval, grad, stepsize, eps)\n",
    "\n",
    "alpha = 4/(np.sqrt(L)+np.sqrt(m))**2\n",
    "beta = (np.sqrt(L)-np.sqrt(m))/(np.sqrt(L)+np.sqrt(m))\n",
    "x, fv, g, history4, iter_count4 = heavy_ball(x0, feval, grad, alpha, beta, eps)\n",
    "\n",
    "alpha = 1/L\n",
    "beta = (np.sqrt(L)-np.sqrt(m))/(np.sqrt(L)+np.sqrt(m))\n",
    "x, fv, g, history5, iter_count5 = Nesterov(x0, feval, grad, alpha, beta, eps)\n"
   ]
  },
  {
   "cell_type": "code",
   "execution_count": 12,
   "metadata": {
    "id": "GRBesdIi9_K7"
   },
   "outputs": [
    {
     "data": {
      "text/plain": [
       "<matplotlib.legend.Legend at 0x1a3c2b505b0>"
      ]
     },
     "execution_count": 12,
     "metadata": {},
     "output_type": "execute_result"
    },
    {
     "data": {
      "image/png": "[encoded data removed]",
      "text/plain": [
       "<Figure size 432x288 with 1 Axes>"
      ]
     },
     "metadata": {
      "needs_background": "light"
     },
     "output_type": "display_data"
    }
   ],
   "source": [
    "import matplotlib.pyplot as plt\n",
    "%matplotlib inline \n",
    "plt.plot(np.arange(iter_count1),np.log10(np.array(history1)),'b')\n",
    "plt.plot(np.arange(iter_count2),np.log10(np.array(history2)),'r')\n",
    "plt.plot(np.arange(iter_count3),np.log10(np.array(history3)),'k')\n",
    "plt.plot(np.arange(iter_count4),np.log10(np.array(history4)),'c')\n",
    "plt.plot(np.arange(iter_count5),np.log10(np.array(history5)),'g')\n",
    "\n",
    "plt.legend((r'SD $\\alpha = 2/(m+L)$', r'SD $\\alpha = 1/L$', r'SD Exact', 'Heavy Ball', 'Nesterov'), loc = 'upper right')"
   ]
  },
  {
   "cell_type": "markdown",
   "metadata": {},
   "source": [
    "We see that gradient descent with Nesterov Acceleration provides the fastest convergence of all the methods."
   ]
  },
  {
   "cell_type": "code",
   "execution_count": null,
   "metadata": {},
   "outputs": [],
   "source": []
  }
 ],
 "metadata": {
  "colab": {
   "collapsed_sections": [],
   "name": "Homework2_problem2.ipynb",
   "provenance": [
    {
     "file_id": "1qja59l8kv8wGHmRH-tjfEi_jDByqTvAF",
     "timestamp": 1602199716792
    }
   ]
  },
  "kernelspec": {
   "display_name": "Python 3 (ipykernel)",
   "language": "python",
   "name": "python3"
  },
  "language_info": {
   "codemirror_mode": {
    "name": "ipython",
    "version": 3
   },
   "file_extension": ".py",
   "mimetype": "text/x-python",
   "name": "python",
   "nbconvert_exporter": "python",
   "pygments_lexer": "ipython3",
   "version": "3.9.7"
  },
  "varInspector": {
   "cols": {
    "lenName": 16,
    "lenType": 16,
    "lenVar": 40
   },
   "kernels_config": {
    "python": {
     "delete_cmd_postfix": "",
     "delete_cmd_prefix": "del ",
     "library": "var_list.py",
     "varRefreshCmd": "print(var_dic_list())"
    },
    "r": {
     "delete_cmd_postfix": ") ",
     "delete_cmd_prefix": "rm(",
     "library": "var_list.r",
     "varRefreshCmd": "cat(var_dic_list()) "
    }
   },
   "types_to_exclude": [
    "module",
    "function",
    "builtin_function_or_method",
    "instance",
    "_Feature"
   ],
   "window_display": false
  }
 },
 "nbformat": 4,
 "nbformat_minor": 4
}
