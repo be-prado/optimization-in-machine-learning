{
 "cells": [
  {
   "cell_type": "markdown",
   "metadata": {},
   "source": [
    "# Using the Power Method and the Frank-Wolfe Method for Stable Matrix Completion"
   ]
  },
  {
   "cell_type": "markdown",
   "metadata": {},
   "source": [
    "This code uses the Frank-Wolfe method to solve the matrix completion problem analogous to the famous Netflix problem."
   ]
  },
  {
   "cell_type": "code",
   "execution_count": 1,
   "metadata": {},
   "outputs": [],
   "source": [
    "import numpy as np\n",
    "\n",
    "from pdb import set_trace\n",
    "\n",
    "import matplotlib.pyplot as plt\n",
    "%matplotlib inline "
   ]
  },
  {
   "cell_type": "code",
   "execution_count": 8,
   "metadata": {},
   "outputs": [],
   "source": [
    "# Implementation of Power method for singular vector computation\n",
    "def PM(A, ninner=100, eps=1e-6):\n",
    "    '''\n",
    "    Input: \n",
    "        A:     Matrix of interest (M by N)\n",
    "        niter: Maximum number of iterations\n",
    "        eps:   Tolerance \n",
    "    Intermediate: \n",
    "        N:     Number of columns of A\n",
    "    Output: \n",
    "        u1:  1st left singular vector \n",
    "        v1:  1st right singular vector\n",
    "        itr: Number of Iterations requires \n",
    "    '''   \n",
    "     # Initialize v1\n",
    "    n = A.shape[1]\n",
    "    v1 = np.ones((n,1))\n",
    "    out_v = [v1]\n",
    "    \n",
    "    # Matrix to determine v1\n",
    "    N = A.T @ A\n",
    "\n",
    "    for itr in range(ninner):\n",
    "        # Power Method\n",
    "        \n",
    "        # v1 = [V]v1 / ||[V]v1||_2\n",
    "        _v = N @ v1\n",
    "        v1 = _v / np.linalg.norm(_v)\n",
    "        out_v.append(v1)\n",
    "        \n",
    "        # Stopping crieterion ||v_{k+1} - v_k||/ ||v_k|| < eps\n",
    "        if (np.linalg.norm(out_v[itr+1] - out_v[itr]) / np.linalg.norm(out_v[itr]) < eps):\n",
    "            # compute u1 = A v_1 / ||A v_1||\n",
    "            _u = A@ v1\n",
    "            u1 = _u / np.linalg.norm(_u)\n",
    "            return u1, v1, itr+1\n",
    "            \n",
    "    return u1, v1, itr+1"
   ]
  },
  {
   "cell_type": "markdown",
   "metadata": {},
   "source": [
    "## Stable Matrix Completion Problem"
   ]
  },
  {
   "cell_type": "markdown",
   "metadata": {},
   "source": [
    "Solving the Stable Matrix Completion Problem: \n",
    "\n",
    "$$\\underset{\\{\\mathbf{X}:\\|\\mathbf{X}\\|_{*}\\leq \\tau\\}}{\\min} \\frac{1}{2} \\|P_{\\Omega}[\\mathbf{X}-Y]\\|_F^2$$"
   ]
  },
  {
   "cell_type": "code",
   "execution_count": 9,
   "metadata": {},
   "outputs": [],
   "source": [
    "def FW(Z, Mk, Data, t=1, fun=lambda z:0, niter=100, pmiter = 100, eps=1e-6):\n",
    "    '''\n",
    "    Input: \n",
    "        Z:      Matrix\n",
    "        Mk:     Mask Matrix\n",
    "        Data:   Data Matrix\n",
    "        t:      Constrain parameter (i.e upper bound on Nuclear Norm of Z)\n",
    "        niter:  Number of iterations\n",
    "        pmiter: Mumer of iteration for power iterations\n",
    "        fun:    User defined function (e.g objective function)\n",
    "        eps:    tolerance for termination criteria \n",
    "\n",
    "    Itermediate:\n",
    "        diffZ: The difference between Z and Data restrict on Mask \n",
    "        dZ:    Direction (rank-1) update\n",
    "    Output: \n",
    "        Z:     Recovered Matrix \n",
    "    '''       \n",
    "    out = np.empty(niter+1)\n",
    "    out[0] = fun(Z)\n",
    "    for itr in range(niter):\n",
    "        # Frank-Wolfe Method\n",
    "        \n",
    "        # the gradient of 0.5 * ||P(Z - Y)||^2 which is P(Z-Y) = Mk * (Z - Y)\n",
    "        diffZ = Mk * (Z - Data)\n",
    "        # Power method on the gradient\n",
    "        u1, v1, _ = PM(diffZ, pmiter, eps)\n",
    "        # Update direction\n",
    "        dZ =  np.outer(-t*u1[:,0], v1[:,0]) - Z\n",
    "        # Update\n",
    "        Z = Z + dZ * 2 / (itr + 2)\n",
    "        \n",
    "        # Store function value\n",
    "        out[itr+1] = fun(Z)\n",
    "        \n",
    "        # Check stopping criterion\n",
    "        if (abs(out[itr+1] - out[itr]) / abs(out[itr]) ) < eps:\n",
    "            return Z,out[:itr+1], itr+1\n",
    "        \n",
    "    return Z,out[:itr+1], itr+1"
   ]
  },
  {
   "cell_type": "code",
   "execution_count": 10,
   "metadata": {},
   "outputs": [],
   "source": [
    "#Set random seed \n",
    "np.random.seed(0)\n",
    "\n",
    "m = 200\n",
    "n = 400\n",
    "p = 0.8  #Sparisty parameter \n",
    "Niter= 2000\n",
    "\n",
    "sig = 1 # Variance of noise \n",
    "\n",
    "A = np.random.normal(0,1,(m,n)) #randomly generated matrix\n",
    "u,s,v = np.linalg.svd(A,full_matrices=False)\n",
    "r = 5 #The rank of the Matrix \n",
    "X= 10*np.dot(u[:,:r]*s[:r],v[:r,:]) #Generate a low rank matrix\n",
    "\n",
    "e = np.random.normal(0, sig, (m,n)) # Gaussian noise\n",
    "\n",
    "M = np.random.permutation(np.concatenate([np.ones(int(m*n*p)),np.zeros(m*n-int(m*n*p))])).reshape(m,n) \n",
    "    #Generate a Mask Matrix, we are going to denote value 0 as missing entry here\n",
    "\n",
    "Y = M*(X+e)"
   ]
  },
  {
   "cell_type": "code",
   "execution_count": 14,
   "metadata": {},
   "outputs": [
    {
     "name": "stdout",
     "output_type": "stream",
     "text": [
      "Number of iterations needed for Frank Wolf: 53\n"
     ]
    }
   ],
   "source": [
    "tau = 0.2*np.linalg.norm(Y,'nuc')\n",
    "\n",
    "obj = lambda z: 0.5 * np.linalg.norm(M* (z - Y))**2 + tau * np.linalg.norm(z, 'nuc') # objective function\n",
    "\n",
    "X_hat,out, Fw_itr = FW(Z=np.zeros((m,n)), Mk=M, Data=Y, t= tau, fun=obj, niter=Niter,pmiter=Niter)\n",
    "print(\"Number of iterations needed for Frank Wolf: {}\".format(Fw_itr))"
   ]
  },
  {
   "cell_type": "code",
   "execution_count": 15,
   "metadata": {},
   "outputs": [
    {
     "name": "stdout",
     "output_type": "stream",
     "text": [
      "The norm difference between estimate and ground truth is: 0.2668488371768201\n",
      "The norm difference between observation and ground truth is: 0.5612789512015659\n"
     ]
    }
   ],
   "source": [
    "print(\"The norm difference between estimate and ground truth is: {}\".format(np.linalg.norm(X_hat-X,'fro')/np.linalg.norm(X,'fro')))\n",
    "print(\"The norm difference between observation and ground truth is: {}\".format(np.linalg.norm(Y-X,'fro')/np.linalg.norm(X,'fro')))"
   ]
  },
  {
   "cell_type": "code",
   "execution_count": 16,
   "metadata": {},
   "outputs": [
    {
     "data": {
      "text/plain": [
       "<matplotlib.legend.Legend at 0x1e6bd564340>"
      ]
     },
     "execution_count": 16,
     "metadata": {},
     "output_type": "execute_result"
    },
    {
     "data": {
      "image/png": "[encoded data removed]",
      "text/plain": [
       "<Figure size 432x288 with 1 Axes>"
      ]
     },
     "metadata": {
      "needs_background": "light"
     },
     "output_type": "display_data"
    }
   ],
   "source": [
    "# Converence to the optimal value  in log scale \n",
    "plt.plot(np.arange(len(out)-1),np.log10(np.array(np.abs(out[:-1]-out[-1]) )),'b')\n",
    "plt.legend('FW', loc = 'upper right')"
   ]
  },
  {
   "cell_type": "code",
   "execution_count": null,
   "metadata": {},
   "outputs": [],
   "source": []
  }
 ],
 "metadata": {
  "kernelspec": {
   "display_name": "Python 3 (ipykernel)",
   "language": "python",
   "name": "python3"
  },
  "language_info": {
   "codemirror_mode": {
    "name": "ipython",
    "version": 3
   },
   "file_extension": ".py",
   "mimetype": "text/x-python",
   "name": "python",
   "nbconvert_exporter": "python",
   "pygments_lexer": "ipython3",
   "version": "3.9.7"
  }
 },
 "nbformat": 4,
 "nbformat_minor": 4
}
