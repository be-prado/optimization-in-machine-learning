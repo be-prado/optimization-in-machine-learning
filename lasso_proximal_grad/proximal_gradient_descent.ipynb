{
 "cells": [
  {
   "cell_type": "markdown",
   "metadata": {},
   "source": [
    "# Proximal Gradient Methods for Non-Smooth, Convex Optimization"
   ]
  },
  {
   "cell_type": "markdown",
   "metadata": {},
   "source": [
    "Proximal gradient methods with backtracking or acceleration are applied to the Lasso problem and the Elastic net problem."
   ]
  },
  {
   "cell_type": "code",
   "execution_count": 1,
   "metadata": {},
   "outputs": [],
   "source": [
    "import numpy as np\n",
    "\n",
    "from pdb import set_trace\n",
    "\n",
    "import matplotlib.pyplot as plt\n",
    "%matplotlib inline "
   ]
  },
  {
   "cell_type": "markdown",
   "metadata": {},
   "source": [
    "## Algorithms "
   ]
  },
  {
   "cell_type": "code",
   "execution_count": 2,
   "metadata": {},
   "outputs": [],
   "source": [
    "# Soft Thresholding function\n",
    "def soft(z, lam): \n",
    "    d = np.shape(z)[0]\n",
    "    s = np.zeros(d)\n",
    "    for i in range(d):\n",
    "        if z[i] > lam:\n",
    "            s[i] = z[i] - lam\n",
    "        elif z[i] < -lam:\n",
    "            s[i] = z[i] + lam\n",
    "    return s"
   ]
  },
  {
   "cell_type": "code",
   "execution_count": 3,
   "metadata": {},
   "outputs": [],
   "source": [
    "# Function that computes proximal gradient \n",
    "def pgf(z, lam, mu, grad):\n",
    "    '''\n",
    "    Input: \n",
    "        z:    Location \n",
    "        grad: Gradient   \n",
    "        lam:  Regularization parameter\n",
    "        mu:   Step size parameter \n",
    "        \n",
    "    Output: \n",
    "        pgrad: Proximal Gradient  \n",
    "    ''' \n",
    "    \n",
    "    ##TODO: Implement proximal gradient computation\n",
    "    \n",
    "    ## ( x_k -  prox_{mu * l1 norm} (z - \\mu grad) )/ mu\n",
    "    G = ( z - soft(z - mu*grad, mu*lam) ) / mu\n",
    "    return G"
   ]
  },
  {
   "cell_type": "code",
   "execution_count": 4,
   "metadata": {},
   "outputs": [],
   "source": [
    "# Implementation of Proximal Gradient Descent function\n",
    "def PGD(x0, gf, mu, lam = 0, fun=lambda z: 0, niter=100, eps=1e-6):    \n",
    "    '''\n",
    "    Input: \n",
    "        x0: intilalization \n",
    "        gf: gradient function takes position argument \n",
    "        mu:  step size\n",
    "        lam: regularization parameter\n",
    "        fun: user defined function (e.g objective function)\n",
    "        niter: Number of iterations \n",
    "        \n",
    "    Output: \n",
    "        z: final solution \n",
    "        out: objective values per iterations \n",
    "    '''\n",
    "    out = np.empty(niter+1)\n",
    "    z = x0.copy() \n",
    "    out[0] = fun(z)\n",
    "    for itr in range(niter):\n",
    "    # proximal gradient method  \n",
    "        z = z - mu*pgf(z, lam, mu, gf(z))\n",
    "        out[itr+1] = fun(z)\n",
    "        if (np.abs(out[itr+1] - out[itr])/np.abs(out[itr]) <= eps):\n",
    "            return z, out[:itr+2]\n",
    "    return z, out"
   ]
  },
  {
   "cell_type": "code",
   "execution_count": 5,
   "metadata": {},
   "outputs": [],
   "source": [
    "def backtrack(z, f, grad, mu, lam, alp = 2, beta = 0.5):\n",
    "    \n",
    "    '''\n",
    "    Input: \n",
    "        z:     Current location\n",
    "        f:     Differentialable part of fective function \n",
    "        grad:  Gradient \n",
    "        alp:   Warm start parameter\n",
    "        beta:  Step size decay parameter \n",
    "        mu:    Step size from previous iteration\n",
    "        lam:   Regularization parameter\n",
    "\n",
    "    Output: \n",
    "        mu: step size \n",
    "    '''    \n",
    "    # backtracking\n",
    "\n",
    "    # proximal gradient\n",
    "    G = pgf(z, lam, mu, grad)\n",
    "    # next point\n",
    "    T = z - mu*G\n",
    "    while (f(T) - ( f(z) - mu * np.dot(grad,G) + 0.5*mu*np.dot(G,G) ) >= 0):\n",
    "        mu *= beta\n",
    "        G = pgf(z, lam, mu, grad)\n",
    "        T = z - mu*G\n",
    "    return mu "
   ]
  },
  {
   "cell_type": "code",
   "execution_count": 6,
   "metadata": {},
   "outputs": [],
   "source": [
    "# Implementation of Proximal Gradient Descent function with backtracking line search\n",
    "def BPGD(x0, gf, lam = 0, f= lambda z: 0, fun=lambda z: 0, niter=100,eps=1e-6):    \n",
    "    '''\n",
    "    Input: \n",
    "        x0:  intilalization \n",
    "        gf:  gradient function takes position argument \n",
    "        lam: regularization parameter\n",
    "        f:   differentiable part of objective function\n",
    "        fun: user defined function (e.g objective function)\n",
    "        niter: Number of iterations \n",
    "\n",
    "    Itermediate: \n",
    "        grad: Gradient\n",
    "        mu:  step size        \n",
    "    Output: \n",
    "        z: final solution \n",
    "        out: objective values per iterations \n",
    "    '''\n",
    "    out = np.empty(niter+1)\n",
    "    z = x0.copy() \n",
    "    mu = 1\n",
    "    out[0] = fun(z)\n",
    "    for itr in range(niter):\n",
    "    # proximal gradient descent with backtracking line search\n",
    "\n",
    "        # backtracking mu\n",
    "        mu = backtrack(z, fun, gf(z), mu, lam)\n",
    "        # proximal gradient update\n",
    "        z = z - mu*pgf(z, lam, mu, gf(z))\n",
    "        # store function value\n",
    "        out[itr+1] = fun(z)\n",
    "        # check if method stabilized\n",
    "        if np.abs(out[itr+1] - out[itr])/np.abs(out[itr]) <= eps:\n",
    "            return z, out[:itr+2]\n",
    "    \n",
    "    return z,out"
   ]
  },
  {
   "cell_type": "code",
   "execution_count": 7,
   "metadata": {},
   "outputs": [],
   "source": [
    "# Implementation of Nesterov Accelerated Proximal Gradient Descent with adaptive restart\n",
    "def APGD(x0, gf, mu, lam = 0, fun=lambda z: 0, niter=100, eps=1e-6):    \n",
    "    '''\n",
    "    Input: \n",
    "        x0: intilalization \n",
    "        gf: gradient function takes position argument \n",
    "        mu: step size\n",
    "        lam: regularization parameter\n",
    "        fun: user defined function (e.g objective function)\n",
    "        niter: Number of iterations \n",
    "\n",
    "    Itermediate: \n",
    "        z_prev: previous location\n",
    "        t   : Nestorov parameter\n",
    "        t_prev: previous Nestorov parameter \n",
    "        p   : adjusted location \n",
    " \n",
    "    Output: \n",
    "        z: final solution \n",
    "        out: objective values per iterations \n",
    "    '''\n",
    "    \n",
    "    out = np.empty(niter+1)\n",
    "    z_prev = x0.copy() \n",
    "    z = x0.copy()\n",
    "    p = x0.copy()\n",
    "\n",
    "    t_prev = 1\n",
    "    beta = 0\n",
    "    out[0] = fun(z_prev)\n",
    "    \n",
    "    for itr in range(niter):\n",
    "    # Implementation of accelerated proximal gradient method with adaptive restart \n",
    "\n",
    "        # update step\n",
    "        z_prev = z.copy()\n",
    "        z = p - mu * pgf(p, lam, mu, gf(p))\n",
    "        \n",
    "        # update momentum stepsize\n",
    "        t = ( 1 + np.sqrt(1+4*t_prev**2) ) / 2\n",
    "        beta = (t_prev - 1) / t\n",
    "        t_prev = t\n",
    "        \n",
    "        # acceleration step\n",
    "        p = z + beta * (z - z_prev)\n",
    "        \n",
    "        #mu = backtrack(p, fun, gf(p), mu, lam)\n",
    "   \n",
    "        # adaptive restart\n",
    "        if (np.dot(gf(p) , z - z_prev)) > 0:\n",
    "        #if (fun(z) > fun(z_prev)):\n",
    "            # reset step parameters\n",
    "            t_prev = 1\n",
    "            beta = 0\n",
    "            p = z.copy()\n",
    "        \n",
    "        # update objective function\n",
    "        out[itr+1] = fun(z)\n",
    "        \n",
    "        # check if method stabilized\n",
    "        if np.abs(out[itr+1] - out[itr])/np.abs(out[itr]) <= eps:\n",
    "            return z, out[:itr+2]\n",
    "\n",
    "    return z, out"
   ]
  },
  {
   "cell_type": "markdown",
   "metadata": {},
   "source": [
    "## Generating Data"
   ]
  },
  {
   "cell_type": "code",
   "execution_count": 8,
   "metadata": {},
   "outputs": [],
   "source": [
    "#Set random seed \n",
    "np.random.seed(0)\n",
    "\n",
    "m = 200\n",
    "n = 500\n",
    "p = 0.3# Sparsity parameter  \n",
    "sig = 1 # Variance of noise \n",
    "\n",
    "A = np.random.normal(0,1,(m,n))# randomly generated matrix\n",
    "u,s,v = np.linalg.svd(A,full_matrices=False)\n",
    "s[-1] = 0\n",
    "A = np.dot(u*s,v) #change the matrix to be ill-conditioned\n",
    "\n",
    "x = 10*np.random.binomial(1, p, n)*np.random.rand(n) # simulated sparse vector \n",
    "e = np.random.normal(0, sig, m) # Gaussian noise\n",
    "\n",
    "\n",
    "b = np.dot(A,x) + e # The observation"
   ]
  },
  {
   "cell_type": "markdown",
   "metadata": {},
   "source": [
    "## Using Lasso"
   ]
  },
  {
   "cell_type": "markdown",
   "metadata": {},
   "source": [
    "Solving lasso $\\min_{x} \\frac{1}{2}\\|Ax-b\\|_2^2 + \\lambda \\|x\\|_1$"
   ]
  },
  {
   "cell_type": "code",
   "execution_count": 9,
   "metadata": {},
   "outputs": [
    {
     "name": "stdout",
     "output_type": "stream",
     "text": [
      "Number of iteration needed for pgd: 139\n",
      "Number of iteration needed for bpgd: 112\n",
      "Number of iteration needed for apgd: 52\n"
     ]
    }
   ],
   "source": [
    "Niter = 2000 #Maximum Numer of iterations \n",
    "\n",
    "ld = 0.002   #Regularization term\n",
    "objd = lambda z: np.dot(A @ z - b, A @ z - b)/2    # smooth part of the objective function \n",
    "obj = lambda z:  np.dot(A @ z - b, A @ z - b)/2 + ld*np.sum(np.abs(z))   # objective function for lasso\n",
    "gradf = lambda z: A.T @ ( A @ z - b)  # gradient function for the smooth part of the problem\n",
    "L1 = np.max((np.linalg.eigvals(A @ A.T)))\n",
    "stepsize = 1/L1 # stepsize\n",
    "\n",
    "\n",
    "x_ls = np.dot(np.linalg.pinv(A),b) # the least square solution \n",
    "x_pgd, out_pgd = PGD(np.ones(n),gf = gradf, mu = stepsize,lam = ld, fun = obj, niter=Niter)\n",
    "x_bpgd, out_bpgd = BPGD(np.ones(n),gf = gradf, lam = ld, f = objd,fun = obj, niter=Niter)\n",
    "x_apgd, out_apgd = APGD(np.ones(n),gf = gradf, mu = stepsize, lam = ld, fun = obj,niter=Niter)\n",
    "\n",
    "\n",
    "print('Number of iteration needed for pgd: {}'.format(len(out_pgd)))\n",
    "print('Number of iteration needed for bpgd: {}'.format(len(out_bpgd)))\n",
    "print('Number of iteration needed for apgd: {}'.format(len(out_apgd)))"
   ]
  },
  {
   "cell_type": "code",
   "execution_count": 10,
   "metadata": {},
   "outputs": [
    {
     "name": "stdout",
     "output_type": "stream",
     "text": [
      "Norm difference beween ground truth and ls: 52.33586122558618\n",
      "Norm difference beween ground truth and pgd: 47.00847814505909\n",
      "Norm difference beween ground truth and bpgd: 47.00846877763019\n",
      "Norm difference beween ground truth and apgd: 47.00857566345012\n"
     ]
    }
   ],
   "source": [
    "# Difference with respect to ground truth \n",
    "print('Norm difference beween ground truth and ls: {}'.format(np.linalg.norm(x_ls-x)))\n",
    "print('Norm difference beween ground truth and pgd: {}'.format(np.linalg.norm(x_pgd-x)))\n",
    "print('Norm difference beween ground truth and bpgd: {}'.format(np.linalg.norm(x_bpgd-x)))\n",
    "print('Norm difference beween ground truth and apgd: {}'.format(np.linalg.norm(x_apgd-x)))"
   ]
  },
  {
   "cell_type": "code",
   "execution_count": 11,
   "metadata": {},
   "outputs": [
    {
     "data": {
      "text/plain": [
       "<matplotlib.legend.Legend at 0x25b277d41c0>"
      ]
     },
     "execution_count": 11,
     "metadata": {},
     "output_type": "execute_result"
    },
    {
     "data": {
      "image/png": "[encoded data removed]",
      "text/plain": [
       "<Figure size 432x288 with 1 Axes>"
      ]
     },
     "metadata": {
      "needs_background": "light"
     },
     "output_type": "display_data"
    }
   ],
   "source": [
    "# Converence to the optimal value \n",
    "plt.plot(np.arange(len(out_pgd)-1),np.log10(np.array(out_pgd[:-1]-out_pgd[-1])),'b')\n",
    "plt.plot(np.arange(len(out_bpgd)-1),np.log10(np.array(out_bpgd[:-1]-out_bpgd[-1])),'r')\n",
    "plt.plot(np.arange(len(out_apgd)-1),np.log10(np.array(out_apgd[:-1]-out_apgd[-1])),'k')\n",
    "\n",
    "#plt.plot(np.arange(len(out_apgd)-1),np.log10(np.array(out_apgd[:-1]-np.min(out_apgd))),'k')\n",
    "#plt.plot(np.arange(len(out_hpgd)-1),np.log10(np.array(out_hpgd[:-1]-out_hpgd[-1])),'g')\n",
    "\n",
    "plt.legend((r'PGD', r'BPGD', r'APGD'), loc = 'upper right')"
   ]
  },
  {
   "cell_type": "markdown",
   "metadata": {},
   "source": [
    "Evaluate Run Time "
   ]
  },
  {
   "cell_type": "code",
   "execution_count": 12,
   "metadata": {},
   "outputs": [
    {
     "name": "stdout",
     "output_type": "stream",
     "text": [
      "8.48 ms ± 361 µs per loop (mean ± std. dev. of 7 runs, 100 loops each)\n"
     ]
    }
   ],
   "source": [
    "%timeit np.dot(np.linalg.pinv(A),b)"
   ]
  },
  {
   "cell_type": "code",
   "execution_count": 13,
   "metadata": {},
   "outputs": [
    {
     "name": "stdout",
     "output_type": "stream",
     "text": [
      "28.5 ms ± 200 µs per loop (mean ± std. dev. of 7 runs, 10 loops each)\n"
     ]
    }
   ],
   "source": [
    "np.random.seed(0)\n",
    "%timeit x_pgd, out_pgd = PGD(np.ones(n),gf = gradf, mu = stepsize,lam = ld, fun = obj, niter=Niter)"
   ]
  },
  {
   "cell_type": "code",
   "execution_count": 14,
   "metadata": {},
   "outputs": [
    {
     "name": "stdout",
     "output_type": "stream",
     "text": [
      "59.9 ms ± 447 µs per loop (mean ± std. dev. of 7 runs, 10 loops each)\n"
     ]
    }
   ],
   "source": [
    "np.random.seed(0)\n",
    "%timeit x_bpgd, out_bpgd = BPGD(np.random.rand(n),gf = gradf, lam = ld, f = objd,fun = obj, niter=Niter)"
   ]
  },
  {
   "cell_type": "code",
   "execution_count": 15,
   "metadata": {},
   "outputs": [
    {
     "name": "stdout",
     "output_type": "stream",
     "text": [
      "13.2 ms ± 96.3 µs per loop (mean ± std. dev. of 7 runs, 100 loops each)\n"
     ]
    }
   ],
   "source": [
    "np.random.seed(0)\n",
    "%timeit x_apgd, out_apgd = APGD(np.random.rand(n),gf = gradf, mu = stepsize, lam = ld, fun = obj,niter=Niter)"
   ]
  },
  {
   "cell_type": "markdown",
   "metadata": {},
   "source": [
    "## Elastic Net "
   ]
  },
  {
   "cell_type": "markdown",
   "metadata": {},
   "source": [
    "Solving Elastic Net $\\min_{x} \\frac{1}{2}\\|Ax-b\\|_2^2 + \\lambda_1 \\|x\\|_2^2 + \\lambda_2 \\|x\\|_1$"
   ]
  },
  {
   "cell_type": "code",
   "execution_count": 16,
   "metadata": {},
   "outputs": [
    {
     "name": "stdout",
     "output_type": "stream",
     "text": [
      "Number of iteration needed for pgd: 137\n",
      "Number of iteration needed for bpgd: 111\n",
      "Number of iteration needed for apgd: 53\n"
     ]
    }
   ],
   "source": [
    "Niter = 2000 #Maximum Numer of iterations \n",
    "\n",
    "lam1 = 0.0002        ##Regularization term for l2 penalty \n",
    "lam2 = 0.002         ##Regularization term ofr l1 penalty \n",
    "\n",
    "objd = lambda z: np.dot(A @ z - b, A @ z - b)/2 + lam1 * np.dot(z, z)    # smooth part of the objective function \n",
    "obj = lambda z: np.dot(A @ z - b, A @ z - b)/2 + lam1 * np.dot(z, z) + lam2 * np.sum( np.abs(z) )  # objective function for lasso\n",
    "gradf = lambda z: A.T @ ( A @ z - b) + 2 * lam1 * z   # gradient function for the smooth part of the problem\n",
    "L2 = np.max(np.abs((np.linalg.eigvals(A.T @ A + 2*lam1*np.identity(n))))) # Lipschitz constant \n",
    "stepsize = 1/L2   # stepsize\n",
    "\n",
    "\n",
    "\n",
    "x_ls = np.dot(np.linalg.pinv(A),b) # the least square solution \n",
    "x_pgd, out_pgd = PGD(np.ones(n),gf = gradf, mu = stepsize,lam = lam2, fun = obj, niter=Niter)\n",
    "x_bpgd, out_bpgd = BPGD(np.ones(n),gf = gradf, lam = lam2, f = objd,fun = obj, niter=Niter)\n",
    "x_apgd, out_apgd = APGD(np.ones(n),gf = gradf, mu = stepsize, lam = lam2,fun = obj,niter=Niter)\n",
    "\n",
    "\n",
    "print('Number of iteration needed for pgd: {}'.format(len(out_pgd)))\n",
    "print('Number of iteration needed for bpgd: {}'.format(len(out_bpgd)))\n",
    "print('Number of iteration needed for apgd: {}'.format(len(out_apgd)))"
   ]
  },
  {
   "cell_type": "code",
   "execution_count": 17,
   "metadata": {},
   "outputs": [
    {
     "name": "stdout",
     "output_type": "stream",
     "text": [
      "Norm difference beween ground truth and ls: 52.33586122558618\n",
      "Norm difference beween ground truth and pgd: 47.00858768832531\n",
      "Norm difference beween ground truth and bpgd: 47.00857657395658\n",
      "Norm difference beween ground truth and apgd: 47.00864367420152\n"
     ]
    }
   ],
   "source": [
    "# Difference with respect to ground truth \n",
    "print('Norm difference beween ground truth and ls: {}'.format(np.linalg.norm(x_ls-x)))\n",
    "print('Norm difference beween ground truth and pgd: {}'.format(np.linalg.norm(x_pgd-x)))\n",
    "print('Norm difference beween ground truth and bpgd: {}'.format(np.linalg.norm(x_bpgd-x)))\n",
    "print('Norm difference beween ground truth and apgd: {}'.format(np.linalg.norm(x_apgd-x)))"
   ]
  },
  {
   "cell_type": "code",
   "execution_count": 18,
   "metadata": {},
   "outputs": [
    {
     "data": {
      "text/plain": [
       "<matplotlib.legend.Legend at 0x25b2795c190>"
      ]
     },
     "execution_count": 18,
     "metadata": {},
     "output_type": "execute_result"
    },
    {
     "data": {
      "image/png": "[encoded data removed]",
      "text/plain": [
       "<Figure size 432x288 with 1 Axes>"
      ]
     },
     "metadata": {
      "needs_background": "light"
     },
     "output_type": "display_data"
    }
   ],
   "source": [
    "# Converence to the optimal value  in log scale \n",
    "plt.plot(np.arange(len(out_pgd)-1),np.log10(np.array(out_pgd[:-1]-out_pgd[-1])),'b')\n",
    "plt.plot(np.arange(len(out_bpgd)-1),np.log10(np.array(out_bpgd[:-1]-out_bpgd[-1])),'r')\n",
    "plt.plot(np.arange(len(out_apgd)-1),np.log10(np.array(out_apgd[:-1]-out_apgd[-1])),'k')\n",
    "\n",
    "plt.legend((r'PGD', r'BPGD', r'APGD'), loc = 'upper right')"
   ]
  },
  {
   "cell_type": "markdown",
   "metadata": {},
   "source": [
    "Evaluate Run Time"
   ]
  },
  {
   "cell_type": "code",
   "execution_count": 27,
   "metadata": {},
   "outputs": [
    {
     "name": "stdout",
     "output_type": "stream",
     "text": [
      "8.59 ms ± 136 µs per loop (mean ± std. dev. of 7 runs, 100 loops each)\n"
     ]
    }
   ],
   "source": [
    "%timeit np.dot(np.linalg.pinv(A),b)"
   ]
  },
  {
   "cell_type": "code",
   "execution_count": 28,
   "metadata": {},
   "outputs": [
    {
     "name": "stdout",
     "output_type": "stream",
     "text": [
      "28.1 ms ± 110 µs per loop (mean ± std. dev. of 7 runs, 10 loops each)\n"
     ]
    }
   ],
   "source": [
    "np.random.seed(0)\n",
    "%timeit x_pgd, out_pgd = PGD(np.ones(n),gf = gradf, mu = stepsize,lam = ld, fun = obj, niter=Niter)"
   ]
  },
  {
   "cell_type": "code",
   "execution_count": 29,
   "metadata": {},
   "outputs": [
    {
     "name": "stdout",
     "output_type": "stream",
     "text": [
      "58.6 ms ± 437 µs per loop (mean ± std. dev. of 7 runs, 10 loops each)\n"
     ]
    }
   ],
   "source": [
    "np.random.seed(0)\n",
    "%timeit x_bpgd, out_bpgd = BPGD(np.random.rand(n),gf = gradf, lam = ld, f = objd,fun = obj, niter=Niter)"
   ]
  },
  {
   "cell_type": "code",
   "execution_count": 30,
   "metadata": {},
   "outputs": [
    {
     "name": "stdout",
     "output_type": "stream",
     "text": [
      "The slowest run took 9.23 times longer than the fastest. This could mean that an intermediate result is being cached.\n",
      "78.1 ms ± 40 ms per loop (mean ± std. dev. of 7 runs, 10 loops each)\n"
     ]
    }
   ],
   "source": [
    "np.random.seed(0)\n",
    "%timeit x_apgd, out_apgd = APGD(np.random.rand(n),gf = gradf, mu = stepsize, lam = ld, fun = obj,niter=Niter)"
   ]
  }
 ],
 "metadata": {
  "kernelspec": {
   "display_name": "Python 3 (ipykernel)",
   "language": "python",
   "name": "python3"
  },
  "language_info": {
   "codemirror_mode": {
    "name": "ipython",
    "version": 3
   },
   "file_extension": ".py",
   "mimetype": "text/x-python",
   "name": "python",
   "nbconvert_exporter": "python",
   "pygments_lexer": "ipython3",
   "version": "3.9.7"
  }
 },
 "nbformat": 4,
 "nbformat_minor": 4
}
