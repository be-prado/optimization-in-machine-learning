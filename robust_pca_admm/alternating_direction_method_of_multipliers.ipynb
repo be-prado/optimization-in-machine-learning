{
 "cells": [
  {
   "cell_type": "markdown",
   "metadata": {},
   "source": [
    "# Robust Principal Component Analysis using the Alternating Direction Method of Multipliers"
   ]
  },
  {
   "cell_type": "code",
   "execution_count": 32,
   "metadata": {},
   "outputs": [],
   "source": [
    "import numpy as np\n",
    "import scipy.io as sio\n",
    "import matplotlib.pyplot as plt\n",
    "\n",
    "from pdb import set_trace"
   ]
  },
  {
   "cell_type": "code",
   "execution_count": 33,
   "metadata": {},
   "outputs": [],
   "source": [
    "# Soft Threshold function\n",
    "def soft(z, lam):     \n",
    "    return np.sign(z)*np.maximum(np.abs(z)-lam,0) "
   ]
  },
  {
   "cell_type": "markdown",
   "metadata": {},
   "source": [
    "ADMM approach solving the Robust PCA problem: \n",
    "\n",
    "\\begin{align*}\n",
    "    \\min_{\\mathbf L,\\;\\mathbf S}\\; \\| \\mathbf L \\|_* \\;+\\;\\lambda \\cdot \\|\\mathbf S\\|_1, \\quad\\text{s.t.}\\quad \\mathbf Y\\;=\\;\\mathbf L\\;+\\; \\mathbf S,\n",
    "\\end{align*}"
   ]
  },
  {
   "cell_type": "markdown",
   "metadata": {},
   "source": [
    "The notation here is based on notes from Boyd etal, you may see chapter 3 of https://stanford.edu/~boyd/papers/pdf/admm_distr_stats.pdf for more information"
   ]
  },
  {
   "cell_type": "code",
   "execution_count": 76,
   "metadata": {},
   "outputs": [],
   "source": [
    "#ADMM Implementation of Robust PCA\n",
    "def ADMM(L, S, X, lam, rho, niter=10):\n",
    "    '''\n",
    "    Input: \n",
    "        L:     Low Rank Component of the Data Matrix \n",
    "        S:     The Sparse Component of the Data Matrix\n",
    "        X:     The Data Matrix\n",
    "        lam:   The regularization term \n",
    "        rho:   Augmented Lagrangian Parameter \n",
    "        niter: Number of Iterations \n",
    "        \n",
    "    Intermediate: \n",
    "        W:     The scaled Dual variables\n",
    "\n",
    "\n",
    "    Output: \n",
    "        L:     The Low Rank Component of the Data Matrix \n",
    "    '''  \n",
    "\n",
    "    W = np.zeros(L.shape)\n",
    "    \n",
    "    out = []\n",
    "    \n",
    "    for itr in range(niter):\n",
    "        # ADMM approach\n",
    "        \n",
    "        # Compute SVD of S - X + W/rho\n",
    "        U, E, V = np.linalg.svd(X - S - W/rho, full_matrices=False)\n",
    "        \n",
    "        # Update L based on the soft thresholding of the singular values\n",
    "        L = (U * soft(E, 1/rho)) @ V\n",
    "\n",
    "        # Update S\n",
    "        S = soft(X - L - W/rho, lam/rho)\n",
    "        \n",
    "        # Update W\n",
    "        W = W + rho * (L + S - X)\n",
    "        \n",
    "        out.append(L)\n",
    "    return L, out"
   ]
  },
  {
   "cell_type": "code",
   "execution_count": 77,
   "metadata": {},
   "outputs": [],
   "source": [
    "## Load the Data \n",
    "mnist_49_3000 = sio.loadmat('mnist_49_3000.mat')\n",
    "x = mnist_49_3000['x']\n",
    "y = mnist_49_3000['y']\n",
    "d, n = x.shape\n",
    "x = x - np.mean(x,axis=1,keepdims=True) #Centering the data "
   ]
  },
  {
   "cell_type": "code",
   "execution_count": 79,
   "metadata": {},
   "outputs": [
    {
     "name": "stdout",
     "output_type": "stream",
     "text": [
      "Rank of original data matrix is: 566\n",
      "Rank of low rank data matrix is: 286\n"
     ]
    },
    {
     "data": {
      "text/plain": [
       "[<matplotlib.lines.Line2D at 0x1e903a0b610>]"
      ]
     },
     "execution_count": 79,
     "metadata": {},
     "output_type": "execute_result"
    },
    {
     "data": {
      "image/png": "[encoded data removed]",
      "text/plain": [
       "<Figure size 432x288 with 1 Axes>"
      ]
     },
     "metadata": {
      "needs_background": "light"
     },
     "output_type": "display_data"
    }
   ],
   "source": [
    "Rho = 1 \n",
    "ld = 1/np.sqrt(np.amax(x.shape))\n",
    "\n",
    "x_hat, out_admm =  ADMM(L=x, S=np.zeros(x.shape),X=x, lam=ld, rho = Rho)\n",
    "\n",
    "print(\"Rank of original data matrix is: {}\".format(np.linalg.matrix_rank(x)))\n",
    "print(\"Rank of low rank data matrix is: {}\".format(np.linalg.matrix_rank(x_hat)))\n",
    "U,S,V = np.linalg.svd(x_hat, full_matrices=False)\n",
    "plt.plot(S)"
   ]
  },
  {
   "cell_type": "code",
   "execution_count": 80,
   "metadata": {},
   "outputs": [],
   "source": [
    "# Project low rank data matrix (x_hat) to top k left singular vectors of x_hat\n",
    "k = 50\n",
    "# Selecting k largest singular values\n",
    "S_proj = np.zeros(S.shape)\n",
    "S_proj[:k] = S[:k]\n",
    "# Projecting the matrix\n",
    "x_rpca = U * S_proj @ V\n",
    "\n",
    "ntr = 2000  # number of training points\n",
    "nts = n - 2000  # number of testing points\n",
    "\n",
    "x_tilde = np.concatenate([np.ones([1, n]), x_rpca], axis=0)  # append vector of 1 for the bias term\n",
    "\n",
    "# Split data into training/testing set\n",
    "xtr = x_tilde[:, :ntr]\n",
    "xts = x_tilde[:, ntr:]\n",
    "ytr = y[:, :ntr]\n",
    "yts = y[:, ntr:]"
   ]
  },
  {
   "cell_type": "markdown",
   "metadata": {},
   "source": [
    "Regularized logistic regression on the low rank matrix obtained above"
   ]
  },
  {
   "cell_type": "code",
   "execution_count": 81,
   "metadata": {},
   "outputs": [],
   "source": [
    "#Helper functions\n",
    "\n",
    "# Define sigmoid function\n",
    "def sigmoid_func(t):\n",
    "    return 1. / (1 + np.exp(-t))\n",
    "\n",
    "\n",
    "# Define derivative of sigmoid function\n",
    "def sigmoid_func_derive(t):\n",
    "    return np.exp(-t) / np.square(1 + np.exp(-t))\n",
    "\n",
    "\n",
    "# Phi (defined in problem 3(a))\n",
    "def phi(t):\n",
    "    return np.log(1 + np.exp(-t))\n",
    "\n",
    "\n",
    "\n",
    "def obj_func(xtr, ytr, lam, theta):\n",
    "    \n",
    "    obj_val = np.sum(phi(xtr.T.dot(theta) * ytr.T)) + lam * np.square(np.linalg.norm(theta))\n",
    "    return obj_val"
   ]
  },
  {
   "cell_type": "code",
   "execution_count": 82,
   "metadata": {},
   "outputs": [],
   "source": [
    "# Implementation of Gradient Descent\n",
    "def GD(x, gf, eta, fun=lambda x,itr: 0, niter=100, eps=1e-5):    \n",
    "    '''\n",
    "    Input: \n",
    "        x:     intilalization \n",
    "        gf:    gradient function takes position argument \n",
    "        eta:   step size\n",
    "        fun:   objective value takes position argument \n",
    "        niter: number of iterations \n",
    "        eps:   tolerance for termination criteria \n",
    "\n",
    "    Itermediate: \n",
    "        grad:  gradient\n",
    "\n",
    "    Output: \n",
    "        x:     final solution \n",
    "        itr:   numer of iteration \n",
    "        out:   objective values per iterations \n",
    "    '''\n",
    "    out=np.empty(niter+1)\n",
    "    out[0] = fun(x,0)\n",
    "    for itr in range(niter):\n",
    "        '''\n",
    "        Gradient Descent\n",
    "        '''\n",
    "        x -= eta * gf(x)\n",
    "        out[itr+1] = fun(x,itr+1)\n",
    "        if (np.abs(out[itr+1] - out[itr])/np.abs(out[itr])  < eps):\n",
    "            return x, itr, out[:itr+1]\n",
    "        itr += 1\n",
    "    \n",
    "    out[: itr+1] = fun(x,itr+1)\n",
    "    return x, itr, out[:itr+1]"
   ]
  },
  {
   "cell_type": "code",
   "execution_count": 95,
   "metadata": {},
   "outputs": [
    {
     "name": "stdout",
     "output_type": "stream",
     "text": [
      "The test error of the logistic regression classifier is 4.9\n",
      "Number of iterations needed: 437\n"
     ]
    }
   ],
   "source": [
    "# Initialize with the zero vector. +1 for the bias term\n",
    "lam = 10.0\n",
    "eps = 1e-5\n",
    "Niter = 2000 #maximum number of iterations\n",
    "\n",
    "# Compute the step size\n",
    "_sum = 0\n",
    "for i in range(ntr):\n",
    "    _sum += np.dot(xtr[:,i], xtr[:,i])\n",
    "\n",
    "L = 2*lam + 0.25*_sum # (2*lambda + 0.25 * sum of )\n",
    "step_size = 2/(L + 2*lam)\n",
    "\n",
    "# Gradient function\n",
    "\n",
    "def grad(z):\n",
    "    gf = np.zeros([d+1,1])\n",
    "    gf[:,0] = ( 2 * lam ) * z[:,0]\n",
    "    for i in range(ntr):\n",
    "        gf[:,0] -= xtr[:,i] * ytr[:,i][0] / ( 1 + np.exp( ytr[:,i][0] * np.dot(z[:,0], xtr[:,i])))\n",
    "    return gf\n",
    "                \n",
    "\n",
    "#grad = lambda z: ( 2 * lam / ntr ) * z  -  xtr[:,i] * ytr[:,i] / ( 1 + np.exp( ytr[:,i] * np.dot(z[:,0], xtr[:,i]) )\n",
    "\n",
    "obj = lambda z,itr: obj_func(xtr,ytr,lam, z)\n",
    "\n",
    "theta, niter, out = GD(np.zeros([d+1,1]), grad, step_size, obj, Niter,eps)\n",
    "\n",
    "# Logistic regression estimate\n",
    "y_pred = np.ones([yts.shape[1], 1]) * -1\n",
    "y_pred[xts.T.dot(theta) >= 0] = 1\n",
    "test_error = np.sum(y_pred.T != yts) * 100. / float(nts)\n",
    "\n",
    "print(\"The test error of the logistic regression classifier is {}\".format(test_error))\n",
    "print(\"Number of iterations needed: {}\".format(niter))"
   ]
  }
 ],
 "metadata": {
  "kernelspec": {
   "display_name": "Python 3 (ipykernel)",
   "language": "python",
   "name": "python3"
  },
  "language_info": {
   "codemirror_mode": {
    "name": "ipython",
    "version": 3
   },
   "file_extension": ".py",
   "mimetype": "text/x-python",
   "name": "python",
   "nbconvert_exporter": "python",
   "pygments_lexer": "ipython3",
   "version": "3.9.7"
  }
 },
 "nbformat": 4,
 "nbformat_minor": 4
}
