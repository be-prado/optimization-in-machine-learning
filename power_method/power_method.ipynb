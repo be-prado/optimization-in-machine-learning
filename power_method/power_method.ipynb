{
 "cells": [
  {
   "cell_type": "markdown",
   "metadata": {},
   "source": [
    "# Implementation of the Power Method to Find the Leading Eigenvector and Eigenvalue of a Matrix"
   ]
  },
  {
   "cell_type": "code",
   "execution_count": 1,
   "metadata": {},
   "outputs": [],
   "source": [
    "import numpy as np\n",
    "from pdb import set_trace"
   ]
  },
  {
   "cell_type": "code",
   "execution_count": 4,
   "metadata": {},
   "outputs": [],
   "source": [
    "# Implementation of Power method for singular vectors computation\n",
    "def PM(A, ninner=100, eps=1e-6):\n",
    "    '''\n",
    "    Input: \n",
    "        A:     Matrix of interest (M by N)\n",
    "        niter: Maximum number of iterations\n",
    "        eps:   Tolerance \n",
    "    Intermediate: \n",
    "        N:     Number of columns of A\n",
    "    Output: \n",
    "        u1:  1st left singular vector \n",
    "        v1:  1st right singular vector\n",
    "        itr: Number of Iterations requires \n",
    "    '''  \n",
    "    # Initialize v1\n",
    "    n = A.shape[1]\n",
    "    v1 = np.ones((n,1))\n",
    "    out_v = [v1]\n",
    "    \n",
    "    # Matrix to determine v1\n",
    "    N = A.T @ A\n",
    "\n",
    "    for itr in range(ninner):\n",
    "        # Power Method\n",
    "        \n",
    "        # v1 = [V]v1 / ||[V]v1||_2\n",
    "        _v = N @ v1\n",
    "        v1 = _v / np.linalg.norm(_v)\n",
    "        out_v.append(v1)\n",
    "        \n",
    "        # Stopping crieterion ||v_{k+1} - v_k||/ ||v_k|| < eps\n",
    "        if (np.linalg.norm(out_v[itr+1] - out_v[itr]) / np.linalg.norm(out_v[itr]) < eps):\n",
    "            # compute u1 = A v_1 / ||A v_1||\n",
    "            _u = A@ v1\n",
    "            u1 = _u / np.linalg.norm(_u)\n",
    "            return u1, v1, itr+1\n",
    "            \n",
    "    return u1, v1, itr+1"
   ]
  },
  {
   "cell_type": "code",
   "execution_count": 7,
   "metadata": {},
   "outputs": [
    {
     "name": "stdout",
     "output_type": "stream",
     "text": [
      "The ratio between 2nd largest singular value and the largest singular value is 0.9697208308613205\n",
      "The number of iterations requires for 1st right singular vector is: 215\n",
      "The Frobe frobenius norm difference between rank one decomposition by power method and SVD: 0.00035251426537068686\n"
     ]
    }
   ],
   "source": [
    "np.random.seed(0)\n",
    "\n",
    "m = 50\n",
    "n = 100\n",
    "A = np.random.normal(0,1,(m,n))\n",
    "Niter = 2000\n",
    "\n",
    "U,S,V = np.linalg.svd(A,full_matrices=False)\n",
    "\n",
    "u1, v1, n_pm = PM(A, ninner =Niter )\n",
    "\n",
    "# Estimate largerst singular value by the average stretch of each component in the computed v_1\n",
    "sigma1 =  np.sqrt( np.mean((((A.T @ A) @ v1) / v1 )[:,0]) )\n",
    "\n",
    "print(\"The ratio between 2nd largest singular value and the largest singular value is {}\".format(S[1]/S[0]))\n",
    "print(\"The number of iterations requires for 1st right singular vector is: {}\".format(n_pm))\n",
    "print(\"The Frobe frobenius norm difference between rank one decomposition by power method and SVD: {}\".format(\n",
    "                np.linalg.norm( np.outer(sigma1*u1[:,0], v1[:,0]) - np.outer(S[0]*U[:,0] , V[0]) , ord = 'fro')))"
   ]
  },
  {
   "cell_type": "code",
   "execution_count": null,
   "metadata": {},
   "outputs": [],
   "source": []
  }
 ],
 "metadata": {
  "kernelspec": {
   "display_name": "Python 3 (ipykernel)",
   "language": "python",
   "name": "python3"
  },
  "language_info": {
   "codemirror_mode": {
    "name": "ipython",
    "version": 3
   },
   "file_extension": ".py",
   "mimetype": "text/x-python",
   "name": "python",
   "nbconvert_exporter": "python",
   "pygments_lexer": "ipython3",
   "version": "3.9.7"
  }
 },
 "nbformat": 4,
 "nbformat_minor": 4
}
