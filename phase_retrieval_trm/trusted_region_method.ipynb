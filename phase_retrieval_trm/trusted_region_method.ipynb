{
 "cells": [
  {
   "cell_type": "markdown",
   "metadata": {},
   "source": [
    "# Comparisson Between Gradient Descent with Backtracking Line Search and the Trust Region Method"
   ]
  },
  {
   "cell_type": "code",
   "execution_count": 1,
   "metadata": {},
   "outputs": [],
   "source": [
    "import numpy as np\n",
    "import cvxpy as cp\n",
    "\n",
    "import matplotlib.pyplot as plt\n",
    "%matplotlib inline\n",
    "\n",
    "from pdb import set_trace"
   ]
  },
  {
   "cell_type": "markdown",
   "metadata": {},
   "source": [
    "## Algorithms"
   ]
  },
  {
   "cell_type": "code",
   "execution_count": 2,
   "metadata": {},
   "outputs": [],
   "source": [
    "# Backtracking line search for GD \n",
    "def backtrack(z, f, grad, mu, alp = 2, beta = 0.5):    \n",
    "    '''\n",
    "    Input: \n",
    "        z:     Current location\n",
    "        f:     Objective function \n",
    "        grad:  Gradient \n",
    "        alp:   Warm start parameter\n",
    "        beta:  Step size decay parameter \n",
    "        mu:    Step size from previous iteration\n",
    "\n",
    "    Output: \n",
    "        mu: step size \n",
    "    '''    \n",
    "    mu = alp*mu\n",
    "\n",
    "    while f(z - mu*grad) > f(z) - 0.25*mu*np.linalg.norm(grad)**2:\n",
    "        # decrease step size\n",
    "        mu *= beta\n",
    "        \n",
    "    return mu "
   ]
  },
  {
   "cell_type": "code",
   "execution_count": 3,
   "metadata": {},
   "outputs": [],
   "source": [
    "# Implementation of Gradient Descent with backtracking line search\n",
    "def BGD(x0, gradf, fun=lambda z: 0, niter=1000,eps=1e-6):    \n",
    "    '''\n",
    "    Input: \n",
    "        x0:  intilalization \n",
    "        gradf:  gradient function takes position argument \n",
    "        fun: objective function\n",
    "        niter: Number of iterations \n",
    "\n",
    "    Itermediate: \n",
    "        grad: Gradient\n",
    "        mu:   Step size, initialized as 1       \n",
    "    Output: \n",
    "        z: final solution \n",
    "        out: objective values per iterations \n",
    "    '''\n",
    "    out = np.empty(niter+1)\n",
    "    z = x0.copy() \n",
    "    mu = 1\n",
    "    out[0] = fun(z)\n",
    "    \n",
    "    # Gradient Descent with line search\n",
    "    for itr in range(niter):\n",
    "        grad = gradf(z)\n",
    "        # compute stepsize using backtrack\n",
    "        mu = backtrack(z, fun, grad, mu)\n",
    "        # update z in gradient direction\n",
    "        z = z - mu * grad\n",
    "        # store function value\n",
    "        out[itr+1] = fun(z)\n",
    "        \n",
    "        # check stopping criterion\n",
    "        if abs(out[itr+1] - out[itr]) < eps:\n",
    "            itr = itr + 1\n",
    "            break\n",
    "    \n",
    "    return z, out[:itr+1]"
   ]
  },
  {
   "cell_type": "code",
   "execution_count": 4,
   "metadata": {},
   "outputs": [],
   "source": [
    "# Implementation of Power method for eigen vector computation\n",
    "def PM(A0, ninner=1000, eps=1e-6):\n",
    "    '''\n",
    "    Input: \n",
    "        A0:     Matrix of interest (N by N)\n",
    "        niter: Maximum number of iterations\n",
    "        eps:   Tolerance \n",
    "    Intermediate: \n",
    "        N:     Number of columns of A\n",
    "    Output: \n",
    "        u1:  leading eigen vector (unique up to sign) \n",
    "    '''   \n",
    "    N = A0.shape[1]\n",
    "    v1 = np.ones((N,1))\n",
    "    v1_new = v1\n",
    "    \n",
    "    for itr in range(ninner):\n",
    "        # update v1\n",
    "        _v = A0 @ v1\n",
    "        # v1 = [V]v1 / ||[V]v1||_2\n",
    "        v1_new = _v / np.linalg.norm(_v[:,0])\n",
    "        # Stopping crieterion ||v_{k+1} - v_k||/ ||v_k|| < eps\n",
    "        if (np.linalg.norm(v1_new - v1) / np.linalg.norm(v1) < eps):\n",
    "            v1 = v1_new\n",
    "            break\n",
    "        v1 = v1_new\n",
    "    # ensure v1 has the correct norm\n",
    "    v1 = np.sqrt(np.linalg.norm(np.dot(A0,v1)))*v1\n",
    "    return v1"
   ]
  },
  {
   "cell_type": "code",
   "execution_count": 5,
   "metadata": {},
   "outputs": [],
   "source": [
    "#Trusted Region Subproblem\n",
    "# Solving the TRM subproblem is SDP and cvx solver \n",
    "# source : https://www.cvxpy.org/examples/basic/sdp.html\n",
    "\n",
    "def TRM_sub(f_q, block_m, delta):\n",
    "    '''\n",
    "    Input:\n",
    "        f_q:     qudratic approximation to the objective function, takes direction -> approximation\n",
    "        delta:   Trust region radius \n",
    "        block_m: The block matrix used for SDP\n",
    "    Intermediate: \n",
    "        X:       CVX variable \n",
    "    Output: \n",
    "        dr:      Direction vector \n",
    "    '''\n",
    "    # matrix variable\n",
    "    X = cp.Variable(block_m.shape,symmetric=True)\n",
    "    # problem constraints\n",
    "    constraints = [cp.trace(X) <= delta**2 + 1,\n",
    "                    X >> 0, \n",
    "                    X[-1, -1] == 1]\n",
    "    # minimization problem\n",
    "    prob = cp.Problem( cp.Minimize(cp.trace(block_m @ X)) , constraints )\n",
    "    # solve problem\n",
    "    prob.solve()\n",
    "    \n",
    "    # leading eigenvector of X -> our step direction\n",
    "    dr = PM(X.value)\n",
    "    # ignore last entry of dr (should always be 1)\n",
    "    dr = dr[:-1]\n",
    "    \n",
    "    # check for the sign of the eivenvector with biggest descent\n",
    "    if (f_q(-dr) < f_q(dr)):\n",
    "        dr = -dr\n",
    "    \n",
    "    return dr"
   ]
  },
  {
   "cell_type": "code",
   "execution_count": 20,
   "metadata": {},
   "outputs": [],
   "source": [
    "#Trusted Region Method \n",
    "# Solving the TRM subproblem is SDP and cvx solver\n",
    "def TRM(x0, gradf, hessf, fun = lambda z:0, niter=1000, delta=0.1, eta_s = 0.2, eta_vs = 0.8, gamma_i=2, gamma_d=0.5, eps=1e-6): \n",
    "    '''\n",
    "    Input:\n",
    "        x0:      Intilalization         \n",
    "        gradf:    Gradient function of objective function: takes location -> Gradient Vector\n",
    "        hessf:    Hessian function of Objective function:  takes location -> Hessian Matrix\n",
    "        fun:     Objective function\n",
    "        niter:   maximum umber of iterations\n",
    "        rho:     quality of reduction \n",
    "        delta:   Trust region radius \n",
    "        eta_vs:  Threshold if rho>eta_vs fun approximation is considered very successful\n",
    "        eta_s:   Threshold if rho<eta_s fun approximation is considered unsuccessful \n",
    "        gamma_i: Parameter increases delta\n",
    "        gamma_d: Parameter decreases delta \n",
    "        \n",
    "    Intermediate:\n",
    "        grad :   Gradient for current iterate \n",
    "        hess :   Hessian Matrix for current iterate\n",
    "        block_m: The block matrix used for SDP\n",
    "        dr:      moving direction \n",
    "        fun_q:   qudratic approximation to the objective function, takes direction -> approximation\n",
    "        \n",
    "    Output: \n",
    "         out: objective values per iterations \n",
    "         x:      Estimated parameter \n",
    "    '''\n",
    "    x = x0.copy()\n",
    "    out = np.empty(niter+1)\n",
    "    out[0] = fun(x)\n",
    "    \n",
    "    # quadratic approximation to the objective function\n",
    "    fun_q = lambda d, z : fun(z) + np.dot(d.T, gradf(z)) + 0.5*np.dot(d.T, hessf(z)@d)\n",
    "    # block matrix used for SDP\n",
    "    block_m = lambda z : np.block( [ [hessf(z),  gradf(z)], [gradf(z).T , 2 * fun(z)] ])\n",
    "    \n",
    "    for itr in range(niter):\n",
    "        # direction computed using SDP\n",
    "        dr = TRM_sub(lambda d : fun_q(d, x) , block_m(x) , delta)\n",
    "        \n",
    "        # measure of how good of a descent direction dr is\n",
    "        rho = (fun(x) - fun(x+dr)) / (fun(x) - fun_q(dr,x))\n",
    "        \n",
    "        \n",
    "        # if the direction was unsuccessful, don't update x, shrink delta\n",
    "        if rho<eta_s:\n",
    "            delta *= gamma_d\n",
    "        # check stopping condition\n",
    "        elif abs(fun(x)-fun(x+dr)) < eps:\n",
    "            out[itr+1] = fun(x)\n",
    "            break\n",
    "        # if the direction was very successful\n",
    "        elif (rho > eta_vs):\n",
    "            x += dr\n",
    "            delta *= gamma_i\n",
    "        # if the direction was moderately successful\n",
    "        else:\n",
    "            x += dr\n",
    "            \n",
    "        out[itr+1] = fun(x)\n",
    "            \n",
    "    return x, out[:itr+1]"
   ]
  },
  {
   "cell_type": "markdown",
   "metadata": {},
   "source": [
    "## Generating the Data"
   ]
  },
  {
   "cell_type": "code",
   "execution_count": 18,
   "metadata": {},
   "outputs": [],
   "source": [
    "np.random.seed(0)\n",
    "\n",
    "n = 5\n",
    "m = 50\n",
    "x_true = np.random.randn(n,1)\n",
    "\n",
    "A = np.random.randn(n,m)\n",
    "y = (A.T@x_true)**2"
   ]
  },
  {
   "cell_type": "markdown",
   "metadata": {},
   "source": [
    "## Test out the Algorithms"
   ]
  },
  {
   "cell_type": "code",
   "execution_count": 21,
   "metadata": {},
   "outputs": [
    {
     "name": "stdout",
     "output_type": "stream",
     "text": [
      "8\n",
      "18\n"
     ]
    }
   ],
   "source": [
    "Obj  = lambda z: (0.25/m)*(np.linalg.norm(y-(A.T@z)**2)**2)\n",
    "Grad = lambda z: A@(((A.T@z)**3-(A.T@z)*y))/m\n",
    "Hess = lambda z: (A@(((3*((A.T@z)**2)-y))*A.T))/m\n",
    "\n",
    "x_TRM, out_TRM = TRM(np.ones((n,1)), gradf = Grad,  hessf = Hess, fun = Obj)\n",
    "x_grad, out_BGD = BGD(np.ones((n,1)), gradf = Grad, fun = Obj)\n",
    "\n",
    "print(len(out_TRM))\n",
    "print(len(out_BGD))"
   ]
  },
  {
   "cell_type": "code",
   "execution_count": 22,
   "metadata": {},
   "outputs": [
    {
     "data": {
      "text/plain": [
       "<matplotlib.legend.Legend at 0x20f888fec10>"
      ]
     },
     "execution_count": 22,
     "metadata": {},
     "output_type": "execute_result"
    },
    {
     "data": {
      "image/png": "[encoded data removed]",
      "text/plain": [
       "<Figure size 432x288 with 1 Axes>"
      ]
     },
     "metadata": {
      "needs_background": "light"
     },
     "output_type": "display_data"
    }
   ],
   "source": [
    "# Converence to the optimal value \n",
    "plt.plot(np.arange(len(out_TRM)-1),np.log10(np.array(out_TRM[:-1]-out_TRM[-1])),'b')\n",
    "plt.plot(np.arange(len(out_BGD)-1),np.log10(np.array(out_BGD[:-1]-out_BGD[-1])),'r')\n",
    "\n",
    "plt.legend((r'TRM', r'BGD'), loc = 'upper right')"
   ]
  },
  {
   "cell_type": "code",
   "execution_count": null,
   "metadata": {},
   "outputs": [],
   "source": []
  }
 ],
 "metadata": {
  "kernelspec": {
   "display_name": "Python 3 (ipykernel)",
   "language": "python",
   "name": "python3"
  },
  "language_info": {
   "codemirror_mode": {
    "name": "ipython",
    "version": 3
   },
   "file_extension": ".py",
   "mimetype": "text/x-python",
   "name": "python",
   "nbconvert_exporter": "python",
   "pygments_lexer": "ipython3",
   "version": "3.9.7"
  }
 },
 "nbformat": 4,
 "nbformat_minor": 4
}
